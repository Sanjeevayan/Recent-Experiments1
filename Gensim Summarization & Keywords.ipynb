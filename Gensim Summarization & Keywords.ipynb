{
 "cells": [
  {
   "cell_type": "code",
   "execution_count": 1,
   "metadata": {},
   "outputs": [
    {
     "name": "stdout",
     "output_type": "stream",
     "text": [
      "One of the men who asks the Don for a favor is Amerigo Bonasera, a successful mortician and acquaintance of the Don, whose daughter was brutally beaten by two young men because sherefused their advances; the men received minimal punishment from the presiding judge.\n"
     ]
    }
   ],
   "source": [
    "from gensim.summarization import summarize\n",
    "text = \"In late summer 1945, guests are gathered for the wedding reception of Don Vito Corleones \" + \\\n",
    "       \"daughter Connie (Talia Shire) and Carlo Rizzi (Gianni Russo). Vito (Marlon Brando),\"  + \\\n",
    "       \"the head of the Corleone Mafia family, is known to friends and associates as Godfather. \"  + \\\n",
    "       \"He and Tom Hagen (Robert Duvall), the Corleone family lawyer, are hearing requests for favors \"  + \\\n",
    "       \"because, according to Italian tradition, no Sicilian can refuse a request on his daughter's wedding \" + \\\n",
    "       \" day. One of the men who asks the Don for a favor is Amerigo Bonasera, a successful mortician \"  + \\\n",
    "       \"and acquaintance of the Don, whose daughter was brutally beaten by two young men because she\"  + \\\n",
    "       \"refused their advances; the men received minimal punishment from the presiding judge. \" + \\\n",
    "       \"The Don is disappointed in Bonasera, who'd avoided most contact with the Don due to Corleone's\" + \\\n",
    "       \"nefarious business dealings. The Don's wife is godmother to Bonasera's shamed daughter, \" + \\\n",
    "       \"a relationship the Don uses to extract new loyalty from the undertaker. The Don agrees \" + \\\n",
    "       \"to have his men punish the young men responsible (in a non-lethal manner) in return for \" + \\\n",
    "        \"future service if necessary.\"\n",
    "          \n",
    "print (summarize(text))"
   ]
  },
  {
   "cell_type": "code",
   "execution_count": null,
   "metadata": {},
   "outputs": [],
   "source": []
  }
 ],
 "metadata": {
  "kernelspec": {
   "display_name": "Python 3",
   "language": "python",
   "name": "python3"
  },
  "language_info": {
   "codemirror_mode": {
    "name": "ipython",
    "version": 3
   },
   "file_extension": ".py",
   "mimetype": "text/x-python",
   "name": "python",
   "nbconvert_exporter": "python",
   "pygments_lexer": "ipython3",
   "version": "3.6.5"
  }
 },
 "nbformat": 4,
 "nbformat_minor": 2
}
