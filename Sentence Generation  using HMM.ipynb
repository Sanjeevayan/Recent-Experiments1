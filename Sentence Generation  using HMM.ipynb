{
 "cells": [
  {
   "cell_type": "code",
   "execution_count": 1,
   "metadata": {},
   "outputs": [],
   "source": [
    "s =  \" \""
   ]
  },
  {
   "cell_type": "code",
   "execution_count": 2,
   "metadata": {
    "scrolled": false
   },
   "outputs": [
    {
     "name": "stdout",
     "output_type": "stream",
     "text": [
      "{'START': ['I', 'I', 'I', 'I', 'I', 'I', 'I', 'I'], 'I': ['want', 'need', 'need', 'need', 'want', 'need', 'would', 'want'], 'want': ['to', 'to', 'to'], 'to': ['loan', 'reset', 'restore', 'have', 'take', 'have', 'have'], 'loan': ['a'], 'a': ['projector'], 'projector': ['.'], 'END': ['.', '.', '.', '.', '.', '.', '.', '.'], 'need': ['to', 'to', 'to', 'an'], 'reset': ['my'], 'my': ['domain', 'desktop', 'account'], 'domain': ['password'], 'password': ['.'], 'restore': ['my'], 'desktop': ['.'], 'have': ['my', 'an', 'account'], 'account': ['unlocked', '.', 'for'], 'unlocked': ['.'], 'take': ['backup'], 'backup': ['of'], 'of': ['files'], 'files': ['.'], 'an': ['email', 'email'], 'email': ['alias', 'account'], 'alias': ['.'], 'would': ['like'], 'like': ['to'], 'for': ['SAP'], 'SAP': ['.']}\n"
     ]
    }
   ],
   "source": [
    "from nltk import word_tokenize,sent_tokenize\n",
    "model = {}\n",
    "\n",
    "dataset_file = [\n",
    "\n",
    "                \"I want to loan a projector.\",\n",
    "                \"I need to reset my domain password.\",\n",
    "                \"I need to restore my desktop.\",\n",
    "                \"I need to have my account unlocked.\",\n",
    "                \"I want to take backup of files.\",\n",
    "                \"I need an email alias.\",\n",
    "                \"I would like to have an email account.\",\n",
    "                \"I want to have account for SAP.\"\n",
    "                    ]\n",
    "\n",
    "#Training & Model Creation\n",
    "for line in dataset_file:\n",
    "    line = word_tokenize(line)\n",
    "  \n",
    "    for i, word in enumerate(line):\n",
    "        if i == len(line)-1:\n",
    "            model['END'] = model.get('END', []) + [word]\n",
    "             \n",
    "        else:\n",
    "            if i == 0:\n",
    "                model['START'] = model.get('START', []) + [word]\n",
    "            model[word] = model.get(word, []) + [line[i+1]]\n",
    "    \n",
    "\n",
    "print (model)\n"
   ]
  },
  {
   "cell_type": "code",
   "execution_count": 3,
   "metadata": {},
   "outputs": [
    {
     "name": "stdout",
     "output_type": "stream",
     "text": [
      "I need an email alias .\n"
     ]
    }
   ],
   "source": [
    "#Sentence Generation (Option1: prints one sentences)\n",
    "import random\n",
    "\n",
    "generated = []\n",
    "while True:\n",
    "    if not generated:\n",
    "        words = model['START']\n",
    "    elif generated[-1] in model['END']:\n",
    "        break\n",
    "    else:\n",
    "        words = model[generated[-1]]\n",
    "    generated.append(random.choice(words))\n",
    "\n",
    "print (' '.join(generated))\n",
    "\n",
    "s = s + ' '.join(generated) + ' \\n'\n",
    "output_file = open(\"/Users/kumarsanjeev/Desktop/Test4.txt\")\n",
    "path = \"/Users/kumarsanjeev/Desktop/Test4.txt\"\n",
    "with open(path , 'w') as file:\n",
    "    file.write(s)"
   ]
  },
  {
   "cell_type": "code",
   "execution_count": 8,
   "metadata": {},
   "outputs": [
    {
     "name": "stdout",
     "output_type": "stream",
     "text": [
      "I want to take backup of files .\n",
      "I want to have an email alias .\n",
      "I want to take backup of files .\n",
      "I would like to restore my domain password .\n",
      "I would like to reset my account unlocked .\n",
      "I would like to reset my desktop .\n",
      "I need an email account unlocked .\n",
      "I need an email alias .\n",
      "I need an email account unlocked .\n",
      "I would like to have an email alias .\n",
      "I want to have account for SAP .\n",
      "I want to take backup of files .\n",
      "I need to have account .\n",
      "I want to restore my account for SAP .\n",
      "I want to have an email alias .\n",
      "I want to have my account .\n",
      "I want to have my desktop .\n",
      "I want to have account for SAP .\n",
      "I would like to have an email account .\n",
      "I need to take backup of files .\n",
      "I want to reset my account for SAP .\n",
      "I need to reset my desktop .\n",
      "I need an email alias .\n",
      "I want to reset my desktop .\n",
      "I need to restore my desktop .\n",
      "I want to restore my desktop .\n",
      "I want to restore my desktop .\n",
      "I need to reset my account .\n",
      "I need to restore my desktop .\n",
      "I want to restore my account .\n"
     ]
    }
   ],
   "source": [
    "#Sentence Generation(Option2: prints Ten sentences)\n",
    "import random\n",
    "\n",
    "for _ in range(30):\n",
    "    generated = []\n",
    "    while True:\n",
    "        if not generated:\n",
    "            words = model['START']\n",
    "        elif generated[-1] in model['END']:\n",
    "            break\n",
    "        else:\n",
    "            words = model[generated[-1]]\n",
    "        generated.append(random.choice(words))\n",
    "\n",
    "    print (' '.join(generated))\n",
    "    s = s + ' '.join(generated) + ' \\n'\n",
    "    output_file = open(\"/Users/kumarsanjeev/Desktop/Test4.txt\")\n",
    "    path = \"/Users/kumarsanjeev/Desktop/Test4.txt\"\n",
    "    with open(path , 'w') as file:\n",
    "        file.write(s)"
   ]
  },
  {
   "cell_type": "code",
   "execution_count": 31,
   "metadata": {},
   "outputs": [
    {
     "ename": "IndentationError",
     "evalue": "unexpected indent (<ipython-input-31-02792f46bc95>, line 2)",
     "output_type": "error",
     "traceback": [
      "\u001b[0;36m  File \u001b[0;32m\"<ipython-input-31-02792f46bc95>\"\u001b[0;36m, line \u001b[0;32m2\u001b[0m\n\u001b[0;31m    \"I want to loan a projector.\",\u001b[0m\n\u001b[0m    ^\u001b[0m\n\u001b[0;31mIndentationError\u001b[0m\u001b[0;31m:\u001b[0m unexpected indent\n"
     ]
    }
   ],
   "source": [
    "               \"I want a new computer.\",\n",
    "                \"I want to loan a projector.\",\n",
    "                \"I need to reset my domain password.\",\n",
    "                \"I need to restore my desktop to the last archive.\",\n",
    "                \"I need to have my account unlocked.\",\n",
    "                \"I want to take backup of files.\",\n",
    "    \"I need an email alias.\",\n",
    "    \"I would like to have an email account.\"\n",
    "    \"We want to have account for SAP.\"\""
   ]
  },
  {
   "cell_type": "code",
   "execution_count": null,
   "metadata": {},
   "outputs": [],
   "source": []
  }
 ],
 "metadata": {
  "kernelspec": {
   "display_name": "Python 3",
   "language": "python",
   "name": "python3"
  },
  "language_info": {
   "codemirror_mode": {
    "name": "ipython",
    "version": 3
   },
   "file_extension": ".py",
   "mimetype": "text/x-python",
   "name": "python",
   "nbconvert_exporter": "python",
   "pygments_lexer": "ipython3",
   "version": "3.6.5"
  }
 },
 "nbformat": 4,
 "nbformat_minor": 2
}
