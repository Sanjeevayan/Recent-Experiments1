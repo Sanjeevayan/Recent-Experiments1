{
 "cells": [
  {
   "cell_type": "code",
   "execution_count": 1,
   "metadata": {},
   "outputs": [],
   "source": [
    "import nltk\n",
    "# nltk.download('punkt')\n",
    "# nltk.download()\n",
    "from nltk.tokenize import sent_tokenize, word_tokenize\n",
    "from nltk.corpus import stopwords\n",
    "from nltk.probability import FreqDist\n",
    "from collections import defaultdict\n",
    "from string import punctuation\n",
    "from heapq import nlargest\n",
    "def summarize(text, n):\n",
    "    sents = sent_tokenize(text)\n",
    "    \n",
    "    assert n <= len(sents)\n",
    "    wordSent = word_tokenize(text.lower())\n",
    "    stopWords = set(stopwords.words('english')+list(punctuation))\n",
    "    \n",
    "    wordSent= [word for word in wordSent if word not in stopWords]\n",
    "    freq = FreqDist(wordSent)\n",
    "    ranking = defaultdict(int)\n",
    "    \n",
    "    for i, sent in enumerate(sents):\n",
    "        for w in word_tokenize(sent.lower()):\n",
    "            if w in freq:\n",
    "                ranking[i] += freq[w]\n",
    "    sentsIDX = nlargest(n, ranking, key=ranking.get)\n",
    "    return [sents[j] for j in sorted(sentsIDX)]\n"
   ]
  },
  {
   "cell_type": "code",
   "execution_count": 2,
   "metadata": {},
   "outputs": [],
   "source": [
    "text = \"\"\"India chapter has come like a reckoning for many, but Renuka Shahane says there are still uncountable, unknown stories of women, who have faced sexual harassment and abuse that are waiting to be heard.\n",
    "The actress says she also has a story, but she was not wronged by someone famous.\n",
    "I don't think there's a single woman who does not have a #MeToo story.\n",
    "My story does not involve anyone famous. It happened a long time ago, but it impacted me for the longest time. It has coloured how I view things.\n",
    "\"I have spent my entire life travelling in local trains and buses. You are constantly aware that you will get pinched, your breast will be pressed and so on. \n",
    "It doesn't matter if you're underage, married or pregnant. \n",
    "It's a never-ending list,\" Shahane told PTI's Radhika Sharma in a telephonic interview from Mumbai.\"\"\"\n"
   ]
  },
  {
   "cell_type": "code",
   "execution_count": 3,
   "metadata": {},
   "outputs": [],
   "source": [
    "summaryArr = summarize(text, 2)"
   ]
  },
  {
   "cell_type": "code",
   "execution_count": 4,
   "metadata": {},
   "outputs": [
    {
     "data": {
      "text/plain": [
       "['India chapter has come like a reckoning for many, but Renuka Shahane says there are still uncountable, unknown stories of women, who have faced sexual harassment and abuse that are waiting to be heard.',\n",
       " 'It\\'s a never-ending list,\" Shahane told PTI\\'s Radhika Sharma in a telephonic interview from Mumbai.']"
      ]
     },
     "execution_count": 4,
     "metadata": {},
     "output_type": "execute_result"
    }
   ],
   "source": [
    "summaryArr"
   ]
  },
  {
   "cell_type": "code",
   "execution_count": null,
   "metadata": {},
   "outputs": [],
   "source": []
  }
 ],
 "metadata": {
  "kernelspec": {
   "display_name": "Python 3",
   "language": "python",
   "name": "python3"
  },
  "language_info": {
   "codemirror_mode": {
    "name": "ipython",
    "version": 3
   },
   "file_extension": ".py",
   "mimetype": "text/x-python",
   "name": "python",
   "nbconvert_exporter": "python",
   "pygments_lexer": "ipython3",
   "version": "3.6.5"
  }
 },
 "nbformat": 4,
 "nbformat_minor": 2
}
