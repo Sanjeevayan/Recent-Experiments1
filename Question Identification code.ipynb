{
 "cells": [
  {
   "cell_type": "code",
   "execution_count": 1,
   "metadata": {},
   "outputs": [
    {
     "name": "stderr",
     "output_type": "stream",
     "text": [
      "/Users/kumarsanjeev/anaconda3/lib/python3.6/site-packages/ipykernel_launcher.py:5: ParserWarning: Falling back to the 'python' engine because the 'c' engine does not support regex separators (separators > 1 char and different from '\\s+' are interpreted as regex); you can avoid this warning by specifying engine='python'.\n",
      "  \"\"\"\n"
     ]
    },
    {
     "name": "stdout",
     "output_type": "stream",
     "text": [
      "                                            question     label\n",
      "0  how did serfdom develop in and then leave russ...   unknown\n",
      "1  what films featured the character popeye doyle ?       what\n",
      "2  how can i find a list of celebrities ' real na...   unknown\n",
      "3  what fowl grabs the spotlight after the chines...      what\n",
      "4                   what is the full form of .com ?       what\n",
      " what           609\n",
      " who            402\n",
      " unknown        272\n",
      " affirmation    104\n",
      " when            96\n",
      "Name: label, dtype: int64\n",
      "              precision    recall  f1-score   support\n",
      "\n",
      " affirmation       0.72      0.95      0.82        22\n",
      "     unknown       0.78      0.73      0.75        90\n",
      "        what       0.88      0.83      0.85       197\n",
      "        when       0.58      0.55      0.56        20\n",
      "         who       0.81      0.87      0.84       116\n",
      "\n",
      " avg / total       0.82      0.82      0.82       445\n",
      "\n",
      "Accuracy : 0.8157303370786517\n",
      "Question-Type: [' what']\n"
     ]
    }
   ],
   "source": [
    "import pandas as pd\n",
    "import numpy as np\n",
    "import re\n",
    "import nltk\n",
    "df = pd.read_csv(\"/Users/kumarsanjeev/desktop/LabelledData (1).txt\",sep=\",,,\",header=None ,names=['question','label'])\n",
    "print(df.head())\n",
    "#print(df.shape)\n",
    "set(df['label'])\n",
    "df['question'].head()\n",
    "df['question'] = df['question'].apply(lambda x: x.lower())\n",
    "df['question'] = df['question'].apply((lambda x: re.sub('[^a-zA-z0-9\\s]','',x)))\n",
    "df['question'].head()\n",
    "(df['question'].iloc[0].strip())\n",
    "print(df['label'].value_counts())\n",
    "from sklearn.feature_extraction.text import CountVectorizer ,TfidfVectorizer\n",
    "from sklearn.naive_bayes import MultinomialNB\n",
    "from sklearn.linear_model import LogisticRegression\n",
    "from sklearn.metrics import classification_report\n",
    "from sklearn.metrics import confusion_matrix\n",
    "import pickle as pkl\n",
    "from nltk.stem import SnowballStemmer\n",
    "from nltk import word_tokenize\n",
    "from sklearn.model_selection import  train_test_split\n",
    "\n",
    "\n",
    "stemmer = SnowballStemmer('english').stem\n",
    "def stem_tokenize(text):\n",
    "    return [stemmer(i) for i in word_tokenize(text)]\n",
    "\n",
    "\n",
    "vectorizer = TfidfVectorizer(analyzer='word',lowercase=True,tokenizer=stem_tokenize)\n",
    "X_train = vectorizer.fit_transform(df['question'].values)\n",
    "\n",
    "\n",
    "labels = df['label']\n",
    "df['question']\n",
    "'''TEST_SPLIT=0.33\n",
    "\n",
    "# split the data into a training set and a test set\n",
    "indices = np.arange(X_train.shape[0])\n",
    "np.random.shuffle(indices)\n",
    "X_train = X_train[indices]\n",
    "labels = labels[indices]\n",
    "test_samples = int(TEST_SPLIT * X_train.shape[0])\n",
    "\n",
    "x_train = X_train[:-test_samples]\n",
    "y_train = labels[:-test_samples]\n",
    "x_test = X_train[-test_samples:]\n",
    "y_test = labels[-test_samples:]'''\n",
    "x_train,x_test ,y_train,y_test = train_test_split(X_train ,labels , random_state = 4 ,test_size = 0.3)\n",
    "clf = MultinomialNB(0.1)\n",
    "clf.fit(x_train,y_train)\n",
    "pred = clf.predict(x_test)\n",
    "print(classification_report(pred,y_test))\n",
    "print(\"Accuracy : {}\".format(clf.score(x_test,y_test)))\n",
    "#print(\"Accuracy : {}\".format(clf.score(x_train,y_train))) #prints the accuracy on Training Data set)\n",
    "dat=vectorizer.transform([\"When is two plus two?\"])\n",
    "yy = clf.predict(dat)\n",
    "print('Question-Type: {}'.format(yy))"
   ]
  },
  {
   "cell_type": "code",
   "execution_count": null,
   "metadata": {},
   "outputs": [],
   "source": []
  }
 ],
 "metadata": {
  "kernelspec": {
   "display_name": "Python 3",
   "language": "python",
   "name": "python3"
  },
  "language_info": {
   "codemirror_mode": {
    "name": "ipython",
    "version": 3
   },
   "file_extension": ".py",
   "mimetype": "text/x-python",
   "name": "python",
   "nbconvert_exporter": "python",
   "pygments_lexer": "ipython3",
   "version": "3.6.5"
  }
 },
 "nbformat": 4,
 "nbformat_minor": 2
}
