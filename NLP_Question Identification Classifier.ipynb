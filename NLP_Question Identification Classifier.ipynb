{
 "cells": [
  {
   "cell_type": "code",
   "execution_count": 15,
   "metadata": {},
   "outputs": [],
   "source": [
    "import pandas as pd\n",
    "import numpy as np\n",
    "import re\n",
    "import nltk"
   ]
  },
  {
   "cell_type": "code",
   "execution_count": 16,
   "metadata": {},
   "outputs": [
    {
     "name": "stderr",
     "output_type": "stream",
     "text": [
      "/anaconda3/lib/python3.6/site-packages/ipykernel_launcher.py:1: ParserWarning: Falling back to the 'python' engine because the 'c' engine does not support regex separators (separators > 1 char and different from '\\s+' are interpreted as regex); you can avoid this warning by specifying engine='python'.\n",
      "  \"\"\"Entry point for launching an IPython kernel.\n"
     ]
    }
   ],
   "source": [
    "df = pd.read_csv(\"/Users/kumarsanjeev/desktop/LabelledData (1).txt\",sep=\",,,\",header=None ,names=['question','label'])"
   ]
  },
  {
   "cell_type": "code",
   "execution_count": 17,
   "metadata": {},
   "outputs": [
    {
     "data": {
      "text/html": [
       "<div>\n",
       "<style scoped>\n",
       "    .dataframe tbody tr th:only-of-type {\n",
       "        vertical-align: middle;\n",
       "    }\n",
       "\n",
       "    .dataframe tbody tr th {\n",
       "        vertical-align: top;\n",
       "    }\n",
       "\n",
       "    .dataframe thead th {\n",
       "        text-align: right;\n",
       "    }\n",
       "</style>\n",
       "<table border=\"1\" class=\"dataframe\">\n",
       "  <thead>\n",
       "    <tr style=\"text-align: right;\">\n",
       "      <th></th>\n",
       "      <th>question</th>\n",
       "      <th>label</th>\n",
       "    </tr>\n",
       "  </thead>\n",
       "  <tbody>\n",
       "    <tr>\n",
       "      <th>0</th>\n",
       "      <td>how did serfdom develop in and then leave russ...</td>\n",
       "      <td>unknown</td>\n",
       "    </tr>\n",
       "    <tr>\n",
       "      <th>1</th>\n",
       "      <td>what films featured the character popeye doyle ?</td>\n",
       "      <td>what</td>\n",
       "    </tr>\n",
       "    <tr>\n",
       "      <th>2</th>\n",
       "      <td>how can i find a list of celebrities ' real na...</td>\n",
       "      <td>unknown</td>\n",
       "    </tr>\n",
       "    <tr>\n",
       "      <th>3</th>\n",
       "      <td>what fowl grabs the spotlight after the chines...</td>\n",
       "      <td>what</td>\n",
       "    </tr>\n",
       "    <tr>\n",
       "      <th>4</th>\n",
       "      <td>what is the full form of .com ?</td>\n",
       "      <td>what</td>\n",
       "    </tr>\n",
       "  </tbody>\n",
       "</table>\n",
       "</div>"
      ],
      "text/plain": [
       "                                            question     label\n",
       "0  how did serfdom develop in and then leave russ...   unknown\n",
       "1  what films featured the character popeye doyle ?       what\n",
       "2  how can i find a list of celebrities ' real na...   unknown\n",
       "3  what fowl grabs the spotlight after the chines...      what\n",
       "4                   what is the full form of .com ?       what"
      ]
     },
     "execution_count": 17,
     "metadata": {},
     "output_type": "execute_result"
    }
   ],
   "source": [
    "df.head()"
   ]
  },
  {
   "cell_type": "code",
   "execution_count": 18,
   "metadata": {},
   "outputs": [
    {
     "data": {
      "text/plain": [
       "(1483, 2)"
      ]
     },
     "execution_count": 18,
     "metadata": {},
     "output_type": "execute_result"
    }
   ],
   "source": [
    "df.shape"
   ]
  },
  {
   "cell_type": "code",
   "execution_count": 19,
   "metadata": {},
   "outputs": [
    {
     "data": {
      "text/plain": [
       "{' affirmation', ' unknown', ' what', ' when', ' who'}"
      ]
     },
     "execution_count": 19,
     "metadata": {},
     "output_type": "execute_result"
    }
   ],
   "source": [
    "set(df['label'])"
   ]
  },
  {
   "cell_type": "code",
   "execution_count": 20,
   "metadata": {},
   "outputs": [],
   "source": [
    "df['label']=df['label'].str.strip()"
   ]
  },
  {
   "cell_type": "code",
   "execution_count": 21,
   "metadata": {},
   "outputs": [
    {
     "data": {
      "text/plain": [
       "{'affirmation', 'unknown', 'what', 'when', 'who'}"
      ]
     },
     "execution_count": 21,
     "metadata": {},
     "output_type": "execute_result"
    }
   ],
   "source": [
    "set(df['label'])"
   ]
  },
  {
   "cell_type": "code",
   "execution_count": 22,
   "metadata": {},
   "outputs": [
    {
     "data": {
      "text/plain": [
       "0    how did serfdom develop in and then leave russ...\n",
       "1    what films featured the character popeye doyle ? \n",
       "2    how can i find a list of celebrities ' real na...\n",
       "3    what fowl grabs the spotlight after the chines...\n",
       "4                     what is the full form of .com ? \n",
       "Name: question, dtype: object"
      ]
     },
     "execution_count": 22,
     "metadata": {},
     "output_type": "execute_result"
    }
   ],
   "source": [
    "df['question'].head()"
   ]
  },
  {
   "cell_type": "code",
   "execution_count": 23,
   "metadata": {},
   "outputs": [],
   "source": [
    "df['question'] = df['question'].apply(lambda x: x.lower())\n",
    "df['question'] = df['question'].apply((lambda x: re.sub('[^a-zA-z0-9\\s]','',x)))"
   ]
  },
  {
   "cell_type": "code",
   "execution_count": 24,
   "metadata": {},
   "outputs": [
    {
     "data": {
      "text/plain": [
       "0    how did serfdom develop in and then leave russ...\n",
       "1     what films featured the character popeye doyle  \n",
       "2    how can i find a list of celebrities  real nam...\n",
       "3    what fowl grabs the spotlight after the chines...\n",
       "4                       what is the full form of com  \n",
       "Name: question, dtype: object"
      ]
     },
     "execution_count": 24,
     "metadata": {},
     "output_type": "execute_result"
    }
   ],
   "source": [
    "df['question'].head()"
   ]
  },
  {
   "cell_type": "code",
   "execution_count": 25,
   "metadata": {},
   "outputs": [
    {
     "data": {
      "text/plain": [
       "'how did serfdom develop in and then leave russia'"
      ]
     },
     "execution_count": 25,
     "metadata": {},
     "output_type": "execute_result"
    }
   ],
   "source": [
    "((df['question'].iloc[0].strip()))"
   ]
  },
  {
   "cell_type": "code",
   "execution_count": 26,
   "metadata": {},
   "outputs": [
    {
     "name": "stdout",
     "output_type": "stream",
     "text": [
      "what           609\n",
      "who            402\n",
      "unknown        272\n",
      "affirmation    104\n",
      "when            96\n",
      "Name: label, dtype: int64\n"
     ]
    }
   ],
   "source": [
    "print(df['label'].value_counts())"
   ]
  },
  {
   "cell_type": "code",
   "execution_count": 27,
   "metadata": {},
   "outputs": [],
   "source": [
    "from sklearn.feature_extraction.text import CountVectorizer ,TfidfVectorizer\n",
    "from sklearn.naive_bayes import MultinomialNB\n",
    "from sklearn.linear_model import LogisticRegression\n",
    "from sklearn.metrics import classification_report\n",
    "from sklearn.metrics import confusion_matrix\n",
    "import pickle as pkl\n",
    "from nltk.stem import SnowballStemmer\n",
    "from nltk import word_tokenize\n",
    "from sklearn.model_selection import  train_test_split"
   ]
  },
  {
   "cell_type": "code",
   "execution_count": 28,
   "metadata": {},
   "outputs": [],
   "source": [
    "stemmer = SnowballStemmer('english').stem\n",
    "def stem_tokenize(text):\n",
    "    return [stemmer(i) for i in word_tokenize(text)]"
   ]
  },
  {
   "cell_type": "code",
   "execution_count": 29,
   "metadata": {},
   "outputs": [],
   "source": [
    "vectorizer = TfidfVectorizer(analyzer='word',lowercase=True,tokenizer=stem_tokenize)\n",
    "X_train = vectorizer.fit_transform(df['question'].values)"
   ]
  },
  {
   "cell_type": "code",
   "execution_count": 30,
   "metadata": {},
   "outputs": [
    {
     "data": {
      "text/plain": [
       "0       how did serfdom develop in and then leave russ...\n",
       "1        what films featured the character popeye doyle  \n",
       "2       how can i find a list of celebrities  real nam...\n",
       "3       what fowl grabs the spotlight after the chines...\n",
       "4                          what is the full form of com  \n",
       "5       what contemptible scoundrel stole the cork fro...\n",
       "6       what team did baseball s st louis browns become  \n",
       "7                         what is the oldest profession  \n",
       "8                                what are liver enzymes  \n",
       "9       name the scarfaced bounty hunter of the old we...\n",
       "10                          when was ozzy osbourne born  \n",
       "11        why do heavier objects travel downhill faster  \n",
       "12                     who was the pride of the yankees  \n",
       "13                                    who killed gandhi  \n",
       "14      what is considered the costliest disaster the ...\n",
       "15      what sprawling us state boasts the most airpor...\n",
       "16      what did the only repealed amendment to the us...\n",
       "17      how many jews were executed in concentration c...\n",
       "18                          what is `` nine inch nails   \n",
       "19                    what is an annotated bibliography  \n",
       "20                       what is the date of boxing day  \n",
       "21      what articles of clothing are tokens in monopo...\n",
       "22                               name 11 famous martyrs  \n",
       "23                             what s the olympic motto  \n",
       "24           what is the origin of the name ` scarlett   \n",
       "25           what s the secondmostused vowel in english  \n",
       "26                  who was the inventor of silly putty  \n",
       "27      what is the highest waterfall in the united st...\n",
       "28                   name a golf course in myrtle beach  \n",
       "29              which two states enclose chesapeake bay  \n",
       "                              ...                        \n",
       "1453    can an extended warranty be purchased for this...\n",
       "1454                          is the freezer frost free  \n",
       "1455               could someone give me the dimensions  \n",
       "1456                are these drip pans dishwasher safe  \n",
       "1457               do these cooktops require 220 outlet  \n",
       "1458    will this work to connect a wgd9200sq0 to a wf...\n",
       "1459    does it work for whirlpool duet ht  washerdrye...\n",
       "1460    does the old stack kit fit on the new washer a...\n",
       "1461                      is this downdraft ventilation  \n",
       "1462    does the stainless steel trim get scratched by...\n",
       "1463    would this work with the whirlpool duet sports...\n",
       "1464                                  is it made in usa  \n",
       "1465                     is the cooking grate removable  \n",
       "1466     can the cooking grate be removed from the ring  \n",
       "1467                   are the last two numbers the gal  \n",
       "1468               can you verify the dimensions for me  \n",
       "1469              can this tank be used for black water  \n",
       "1470                          can you use on a airplane  \n",
       "1471                         will it fit a 10 ft ceiling \n",
       "1472                             are the lights dimmable \n",
       "1473                              do you ship item to pr \n",
       "1474                     can i just throw them in trash  \n",
       "1475                           are they made in the usa  \n",
       "1476    do you sell an extension kit available for 10 ...\n",
       "1477                                         is it loud  \n",
       "1478                               can it be cut to fit  \n",
       "1479                                  can it be removed  \n",
       "1480                            does this hose have one  \n",
       "1481                              can i get it in india  \n",
       "1482    would this work on a 2008 ford edge with a nak...\n",
       "Name: question, Length: 1483, dtype: object"
      ]
     },
     "execution_count": 30,
     "metadata": {},
     "output_type": "execute_result"
    }
   ],
   "source": [
    "labels = df['label']\n",
    "df['question']\n"
   ]
  },
  {
   "cell_type": "code",
   "execution_count": 31,
   "metadata": {},
   "outputs": [],
   "source": [
    "'''TEST_SPLIT=0.33\n",
    "\n",
    "# split the data into a training set and a test set\n",
    "indices = np.arange(X_train.shape[0])\n",
    "np.random.shuffle(indices)\n",
    "X_train = X_train[indices]\n",
    "labels = labels[indices]\n",
    "test_samples = int(TEST_SPLIT * X_train.shape[0])\n",
    "\n",
    "x_train = X_train[:-test_samples]\n",
    "y_train = labels[:-test_samples]\n",
    "x_test = X_train[-test_samples:]\n",
    "y_test = labels[-test_samples:]'''\n",
    "x_train,x_test ,y_train,y_test = train_test_split(X_train ,labels , random_state = 4 ,test_size = 0.3)"
   ]
  },
  {
   "cell_type": "code",
   "execution_count": 32,
   "metadata": {},
   "outputs": [
    {
     "data": {
      "text/plain": [
       "MultinomialNB(alpha=0.1, class_prior=None, fit_prior=True)"
      ]
     },
     "execution_count": 32,
     "metadata": {},
     "output_type": "execute_result"
    }
   ],
   "source": [
    "# train model\n",
    "clf = MultinomialNB(0.1)\n",
    "clf.fit(x_train,y_train)"
   ]
  },
  {
   "cell_type": "code",
   "execution_count": 24,
   "metadata": {},
   "outputs": [
    {
     "name": "stdout",
     "output_type": "stream",
     "text": [
      "             precision    recall  f1-score   support\n",
      "\n",
      "affirmation       0.72      0.95      0.82        22\n",
      "    unknown       0.78      0.73      0.75        90\n",
      "       what       0.88      0.83      0.85       197\n",
      "       when       0.58      0.55      0.56        20\n",
      "        who       0.81      0.87      0.84       116\n",
      "\n",
      "avg / total       0.82      0.82      0.82       445\n",
      "\n",
      "Accuracy : 0.8157303370786517\n"
     ]
    }
   ],
   "source": [
    "# evaluate the model on test data\n",
    "pred = clf.predict(x_test)\n",
    "print(classification_report(pred,y_test))\n",
    "print(\"Accuracy : {}\".format(clf.score(x_test,y_test)))"
   ]
  },
  {
   "cell_type": "code",
   "execution_count": 42,
   "metadata": {},
   "outputs": [],
   "source": [
    "# predict new data \n",
    "dat=vectorizer.transform([\" Who is Trump\"])\n",
    "yy = clf.predict(dat)"
   ]
  },
  {
   "cell_type": "code",
   "execution_count": 43,
   "metadata": {},
   "outputs": [
    {
     "name": "stdout",
     "output_type": "stream",
     "text": [
      "Question-Type: ['who']\n"
     ]
    }
   ],
   "source": [
    "print('Question-Type: {}'.format(yy))"
   ]
  },
  {
   "cell_type": "code",
   "execution_count": null,
   "metadata": {},
   "outputs": [],
   "source": []
  },
  {
   "cell_type": "code",
   "execution_count": null,
   "metadata": {},
   "outputs": [],
   "source": []
  },
  {
   "cell_type": "code",
   "execution_count": null,
   "metadata": {},
   "outputs": [],
   "source": []
  }
 ],
 "metadata": {
  "kernelspec": {
   "display_name": "Python 3",
   "language": "python",
   "name": "python3"
  },
  "language_info": {
   "codemirror_mode": {
    "name": "ipython",
    "version": 3
   },
   "file_extension": ".py",
   "mimetype": "text/x-python",
   "name": "python",
   "nbconvert_exporter": "python",
   "pygments_lexer": "ipython3",
   "version": "3.6.5"
  }
 },
 "nbformat": 4,
 "nbformat_minor": 2
}
