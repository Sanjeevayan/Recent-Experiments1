{
 "cells": [
  {
   "cell_type": "markdown",
   "metadata": {},
   "source": [
    "# NLU:Dependency Parsing & Subject-Predicate-Object Extraction"
   ]
  },
  {
   "cell_type": "code",
   "execution_count": 65,
   "metadata": {},
   "outputs": [
    {
     "name": "stdout",
     "output_type": "stream",
     "text": [
      "Type a seed utterence:I want a new laptop.\n",
      "Subject is:  I \n",
      " Predicate is: want \n",
      " Object is: laptop\n"
     ]
    }
   ],
   "source": [
    "import spacy\n",
    "\n",
    "nlp = spacy.load('en_core_web_sm')\n",
    "#doc = nlp(u\"The Boys want to reset domain password.\")\n",
    "stop_word = [\"a\",\"an\",\"the\",\"my\",\"new\"]\n",
    "string = input(\"Type a seed utterence:\")\n",
    "new_doc = ''\n",
    "for i in string.split():\n",
    "    if i in stop_word:\n",
    "        continue\n",
    "    else :\n",
    "        new_doc = new_doc+' '+i\n",
    "doc1 = nlp(new_doc)\n",
    "\n",
    "chunk_list1 = []      \n",
    "for chunk in doc1.noun_chunks:\n",
    "    chunk_list1.append(chunk.text)\n",
    "chunk_list1.append(chunk.root.head.text)\n",
    "chunk_list1[-1] ,chunk_list1[-2] = chunk_list1[-2] ,chunk_list1[-1]\n",
    "\n",
    "print (\"Subject is:\",chunk_list1[0],\"\\n\",\"Predicate is:\",chunk_list1[1],\"\\n\",\"Object is:\",chunk_list1[2])\n"
   ]
  },
  {
   "cell_type": "markdown",
   "metadata": {},
   "source": [
    "# NLU:Entity Extraction from New Request Offering"
   ]
  },
  {
   "cell_type": "code",
   "execution_count": 66,
   "metadata": {},
   "outputs": [
    {
     "name": "stdout",
     "output_type": "stream",
     "text": [
      "Request offering is realted to: laptop\n"
     ]
    }
   ],
   "source": [
    "RequestOffering=chunk_list1[-1].replace(' ' , ':').lower()\n",
    "print(\"Request offering is realted to:\",RequestOffering)"
   ]
  },
  {
   "cell_type": "markdown",
   "metadata": {},
   "source": [
    "#  Parsing of Domain Ontology"
   ]
  },
  {
   "cell_type": "code",
   "execution_count": 67,
   "metadata": {},
   "outputs": [
    {
     "name": "stdout",
     "output_type": "stream",
     "text": [
      "{\n",
      "    \"apple:imac\": {\n",
      "        \"desc\": \"\",\n",
      "        \"id\": \"apple:imac\",\n",
      "        \"name\": \"\",\n",
      "        \"other\": {},\n",
      "        \"relations\": {\n",
      "            \"is_a\": [\n",
      "                \"desktop\"\n",
      "            ]\n",
      "        }\n",
      "    },\n",
      "    \"computer:accessories\": {\n",
      "        \"desc\": \"\",\n",
      "        \"id\": \"computer:accessories\",\n",
      "        \"name\": \"\",\n",
      "        \"other\": {},\n",
      "        \"relations\": {\n",
      "            \"can_be\": [\n",
      "                \"loaner:equipment\",\n",
      "                \"peripherals\"\n",
      "            ],\n",
      "            \"is_a\": [\n",
      "                \"it:services\"\n",
      "            ]\n",
      "        }\n",
      "    },\n",
      "    \"computers\": {\n",
      "        \"desc\": \"\",\n",
      "        \"id\": \"computers\",\n",
      "        \"name\": \"\",\n",
      "        \"other\": {},\n",
      "        \"relations\": {\n",
      "            \"can_be\": [\n",
      "                \"desktop\",\n",
      "                \"laptop\"\n",
      "            ],\n",
      "            \"is_a\": [\n",
      "                \"it:services\"\n",
      "            ]\n",
      "        }\n",
      "    },\n",
      "    \"dell:inspiron\": {\n",
      "        \"desc\": \"\",\n",
      "        \"id\": \"dell:inspiron\",\n",
      "        \"name\": \"\",\n",
      "        \"other\": {},\n",
      "        \"relations\": {\n",
      "            \"is_a\": [\n",
      "                \"laptop\"\n",
      "            ]\n",
      "        }\n",
      "    },\n",
      "    \"desktop\": {\n",
      "        \"desc\": \"\",\n",
      "        \"id\": \"desktop\",\n",
      "        \"name\": \"\",\n",
      "        \"other\": {},\n",
      "        \"relations\": {\n",
      "            \"can_be\": [\n",
      "                \"apple:imac\",\n",
      "                \"optiplex\"\n",
      "            ],\n",
      "            \"is_a\": [\n",
      "                \"computers\"\n",
      "            ]\n",
      "        }\n",
      "    },\n",
      "    \"e-mail:service\": {\n",
      "        \"desc\": \"\",\n",
      "        \"id\": \"e-mail:service\",\n",
      "        \"name\": \"\",\n",
      "        \"other\": {},\n",
      "        \"relations\": {\n",
      "            \"can_be\": [\n",
      "                \"mail:box:quota\",\n",
      "                \"new:e-mail:account\"\n",
      "            ],\n",
      "            \"is_a\": [\n",
      "                \"it:services\"\n",
      "            ]\n",
      "        }\n",
      "    },\n",
      "    \"it:services\": {\n",
      "        \"desc\": \"\",\n",
      "        \"id\": \"it:services\",\n",
      "        \"name\": \"\",\n",
      "        \"other\": {},\n",
      "        \"relations\": {\n",
      "            \"can_be\": [\n",
      "                \"computer:accessories\",\n",
      "                \"computers\",\n",
      "                \"e-mail:service\"\n",
      "            ]\n",
      "        }\n",
      "    },\n",
      "    \"laptop\": {\n",
      "        \"desc\": \"\",\n",
      "        \"id\": \"laptop\",\n",
      "        \"name\": \"\",\n",
      "        \"other\": {},\n",
      "        \"relations\": {\n",
      "            \"can_be\": [\n",
      "                \"dell:inspiron\",\n",
      "                \"macbook:pro\",\n",
      "                \"thinkpad\"\n",
      "            ],\n",
      "            \"is_a\": [\n",
      "                \"computers\"\n",
      "            ]\n",
      "        }\n",
      "    },\n",
      "    \"loaner:equipment\": {\n",
      "        \"desc\": \"\",\n",
      "        \"id\": \"loaner:equipment\",\n",
      "        \"name\": \"\",\n",
      "        \"other\": {},\n",
      "        \"relations\": {\n",
      "            \"is_a\": [\n",
      "                \"computer:accessories\"\n",
      "            ]\n",
      "        }\n",
      "    },\n",
      "    \"macbook:pro\": {\n",
      "        \"desc\": \"\",\n",
      "        \"id\": \"macbook:pro\",\n",
      "        \"name\": \"\",\n",
      "        \"other\": {},\n",
      "        \"relations\": {\n",
      "            \"is_a\": [\n",
      "                \"laptop\"\n",
      "            ]\n",
      "        }\n",
      "    },\n",
      "    \"mail:box:quota\": {\n",
      "        \"desc\": \"\",\n",
      "        \"id\": \"mail:box:quota\",\n",
      "        \"name\": \"\",\n",
      "        \"other\": {},\n",
      "        \"relations\": {\n",
      "            \"is_a\": [\n",
      "                \"e-mail:service\"\n",
      "            ]\n",
      "        }\n",
      "    },\n",
      "    \"new:e-mail:account\": {\n",
      "        \"desc\": \"\",\n",
      "        \"id\": \"new:e-mail:account\",\n",
      "        \"name\": \"\",\n",
      "        \"other\": {},\n",
      "        \"relations\": {\n",
      "            \"is_a\": [\n",
      "                \"e-mail:service\"\n",
      "            ]\n",
      "        }\n",
      "    },\n",
      "    \"optiplex\": {\n",
      "        \"desc\": \"\",\n",
      "        \"id\": \"optiplex\",\n",
      "        \"name\": \"\",\n",
      "        \"other\": {},\n",
      "        \"relations\": {\n",
      "            \"is_a\": [\n",
      "                \"desktop\"\n",
      "            ]\n",
      "        }\n",
      "    },\n",
      "    \"peripherals\": {\n",
      "        \"desc\": \"\",\n",
      "        \"id\": \"peripherals\",\n",
      "        \"name\": \"\",\n",
      "        \"other\": {},\n",
      "        \"relations\": {\n",
      "            \"is_a\": [\n",
      "                \"computer:accessories\"\n",
      "            ]\n",
      "        }\n",
      "    },\n",
      "    \"thinkpad\": {\n",
      "        \"desc\": \"\",\n",
      "        \"id\": \"thinkpad\",\n",
      "        \"name\": \"\",\n",
      "        \"other\": {},\n",
      "        \"relations\": {\n",
      "            \"is_a\": [\n",
      "                \"laptop\"\n",
      "            ]\n",
      "        }\n",
      "    }\n",
      "}\n"
     ]
    }
   ],
   "source": [
    "import pronto\n",
    "ont = pronto.Ontology('/Users/kumarsanjeev/Desktop/Combined3.owl')\n",
    "#print(ont.obo)\n",
    "ontJSON = ont.json.lower()\n",
    "print(ontJSON)"
   ]
  },
  {
   "cell_type": "markdown",
   "metadata": {},
   "source": [
    "# Load .JSON File"
   ]
  },
  {
   "cell_type": "code",
   "execution_count": 69,
   "metadata": {},
   "outputs": [
    {
     "data": {
      "text/plain": [
       "dict_keys(['apple:imac', 'computer:accessories', 'computers', 'dell:inspiron', 'desktop', 'e-mail:service', 'it:services', 'laptop', 'loaner:equipment', 'macbook:pro', 'mail:box:quota', 'new:e-mail:account', 'optiplex', 'peripherals', 'thinkpad'])"
      ]
     },
     "execution_count": 69,
     "metadata": {},
     "output_type": "execute_result"
    }
   ],
   "source": [
    "import json\n",
    "\n",
    "d = json.loads(ontJSON)\n",
    "\n",
    "d.keys()"
   ]
  },
  {
   "cell_type": "markdown",
   "metadata": {},
   "source": [
    "# Traversal of the Entity in Domain Ontology Knowledge Base"
   ]
  },
  {
   "cell_type": "code",
   "execution_count": 70,
   "metadata": {},
   "outputs": [
    {
     "name": "stdout",
     "output_type": "stream",
     "text": [
      "Extended ontology nodes are: ['dell:inspiron', 'macbook:pro', 'thinkpad']\n"
     ]
    }
   ],
   "source": [
    "# \"Traverse\" Function  retrieves the nodes from the domain ontology by  checking relatioships \"relations\" and \"can_be\", because can_be checks child nodes.If it does\n",
    "#not have any child , then it  will erturn none and recursion will start again.\n",
    "def traverse(x , list1 = []):\n",
    "    try :\n",
    "        l = d[x][\"relations\"][\"can_be\"]\n",
    "        a = l\n",
    "        for i in a:\n",
    "            list1.append(i)\n",
    "            var = traverse(i ,list1)\n",
    "    except:\n",
    "        return\n",
    "    return list1\n",
    "\n",
    "b = traverse(RequestOffering)\n",
    "print(\"Extended ontology nodes are:\", b)"
   ]
  },
  {
   "cell_type": "markdown",
   "metadata": {},
   "source": [
    "#  Generation of Training Utterances:"
   ]
  },
  {
   "cell_type": "code",
   "execution_count": 71,
   "metadata": {},
   "outputs": [
    {
     "name": "stdout",
     "output_type": "stream",
     "text": [
      "Generated Training Utterences are:\n",
      "\n",
      "I want to have new thinkpad .\n",
      "I want to have new dell inspiron .\n",
      "I need new macbook pro .\n",
      "I want new thinkpad .\n",
      "I would like to have new macbook pro .\n",
      "I want new dell inspiron .\n",
      "I want new dell inspiron .\n",
      "I want to have new dell inspiron .\n",
      "I want new dell inspiron .\n",
      "I would like to have new thinkpad .\n",
      "I need new dell inspiron .\n",
      "I need new dell inspiron .\n",
      "I would like to have new dell inspiron .\n",
      "I would like to have new macbook pro .\n",
      "I want to have new dell inspiron .\n"
     ]
    }
   ],
   "source": [
    "import random\n",
    "print (\"Generated Training Utterences are:\\n\")\n",
    "   \n",
    "for _ in range(15):\n",
    "    if RequestOffering not in d.keys():\n",
    "        print(\"Ontology Not Found then take user input\")\n",
    "        obj = [input().split(',')][0]\n",
    "        for _ in range(15):\n",
    "            subj = [\"I\"]\n",
    "            verb = [\"want\",\"need\",\"want to have\",\"would like to have\"]# Pattern words: User will have to provide keywords for the verbs to dentify the patterns. \n",
    "            adj = [\"new\"]\n",
    "            l = [subj,verb,adj,obj,\".\"] \n",
    "            m = ' '.join([random.choice(i) for i in l])\n",
    "            print(m)\n",
    "        break\n",
    "    else:\n",
    "        subj = [\"I\"]\n",
    "        verb = [\"want\",\"need\",\"want to have\",\"would like to have\"]# Pattern words: User will have to provide keywords for the verbs to dentify the patterns. \n",
    "        adj = [\"new\"]\n",
    "        obj = []\n",
    "        for i in b:\n",
    "            obj.append(i)\n",
    "\n",
    "        l=[subj,verb,adj,obj,\".\"] \n",
    "\n",
    "        m = ' '.join([random.choice(i) for i in l])\n",
    "      \n",
    "        print (m.replace(\":\",\" \"))"
   ]
  },
  {
   "cell_type": "code",
   "execution_count": null,
   "metadata": {},
   "outputs": [],
   "source": [
    "\n",
    "\n"
   ]
  },
  {
   "cell_type": "code",
   "execution_count": null,
   "metadata": {},
   "outputs": [],
   "source": []
  },
  {
   "cell_type": "code",
   "execution_count": null,
   "metadata": {},
   "outputs": [],
   "source": []
  },
  {
   "cell_type": "code",
   "execution_count": 16,
   "metadata": {},
   "outputs": [
    {
     "name": "stdout",
     "output_type": "stream",
     "text": [
      "[I, Laptop, 'want']\n"
     ]
    }
   ],
   "source": [
    "import spacy\n",
    "\n",
    "nlp = spacy.load('en_core_web_sm')\n",
    "doc1 = nlp(r\"I want Laptop\")\n",
    "\n",
    "list1 = []      \n",
    "for chunk in doc1.noun_chunks:\n",
    "    list1.append(chunk)\n",
    "list1.append(chunk.root.head.text)\n",
    "print (list1)"
   ]
  },
  {
   "cell_type": "code",
   "execution_count": 17,
   "metadata": {},
   "outputs": [
    {
     "data": {
      "text/plain": [
       "'want'"
      ]
     },
     "execution_count": 17,
     "metadata": {},
     "output_type": "execute_result"
    }
   ],
   "source": [
    "chunk.root.head.text"
   ]
  },
  {
   "cell_type": "code",
   "execution_count": 39,
   "metadata": {},
   "outputs": [
    {
     "name": "stdout",
     "output_type": "stream",
     "text": [
      "[The boys, a new laptop]\n"
     ]
    }
   ],
   "source": [
    "# # Phrase Extraction \n",
    "import spacy\n",
    "\n",
    "nlp = spacy.load('en_core_web_sm')\n",
    "doc1 = nlp(u\"The boys need a new laptop\")\n",
    "doc = nlp(u\"I need to reset domain password\")\n",
    "#print (list(doc.noun_chunks))\n",
    "final_chunks = []\n",
    "for chunk in doc1.noun_chunks:\n",
    "    final_chunks.append(chunk)\n",
    "print (final_chunks)    \n",
    "    #print(\"Chunks are:\",final_chunks.append(chunk))\n",
    "#     print(chunk.root.dep_ ,chunk.root.text)\n",
    "#     if 'dobj'  in chunk.root.dep_:\n",
    "#         print(chunk.root.text)"
   ]
  },
  {
   "cell_type": "code",
   "execution_count": null,
   "metadata": {},
   "outputs": [],
   "source": []
  },
  {
   "cell_type": "code",
   "execution_count": 85,
   "metadata": {},
   "outputs": [],
   "source": [
    "d = ['computer:accessories', 'dell', 'desktop', 'e-mail:service', 'hp', 'i:pad', 'it:services', 'laptop']\n",
    "term = [\"laptop\"]"
   ]
  },
  {
   "cell_type": "code",
   "execution_count": null,
   "metadata": {},
   "outputs": [],
   "source": []
  }
 ],
 "metadata": {
  "kernelspec": {
   "display_name": "Python 3",
   "language": "python",
   "name": "python3"
  },
  "language_info": {
   "codemirror_mode": {
    "name": "ipython",
    "version": 3
   },
   "file_extension": ".py",
   "mimetype": "text/x-python",
   "name": "python",
   "nbconvert_exporter": "python",
   "pygments_lexer": "ipython3",
   "version": "3.6.5"
  }
 },
 "nbformat": 4,
 "nbformat_minor": 2
}
