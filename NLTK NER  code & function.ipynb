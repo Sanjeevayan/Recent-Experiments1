{
 "cells": [
  {
   "cell_type": "code",
   "execution_count": 1,
   "metadata": {},
   "outputs": [],
   "source": [
    "import nltk\n",
    "def name_entity(text):\n",
    "    tokenized_text = nltk.word_tokenize(text)\n",
    "    tagged_sentences = nltk.pos_tag(tokenized_text)\n",
    "    ne_chunked_sents = nltk.ne_chunk(tagged_sentences)\n",
    "    named_entities = []\n",
    "    for tagged_tree in ne_chunked_sents:\n",
    "        if hasattr(tagged_tree, 'label'):\n",
    "            entity_name = ' '.join(c[0] for c in tagged_tree.leaves())  #\n",
    "            entity_type = tagged_tree.label()  # get NE category\n",
    "            named_entities.append((entity_name, entity_type))\n",
    "\n",
    "\n",
    "    return named_entities\n"
   ]
  },
  {
   "cell_type": "code",
   "execution_count": 8,
   "metadata": {},
   "outputs": [
    {
     "name": "stdout",
     "output_type": "stream",
     "text": [
      "[('John', 'PERSON'), ('London', 'GPE'), ('Microsoft', 'GPE')]\n"
     ]
    }
   ],
   "source": [
    "\n",
    "print (name_entity(\"John stays in London and he works in Microsoft corp.\"))"
   ]
  },
  {
   "cell_type": "code",
   "execution_count": null,
   "metadata": {},
   "outputs": [],
   "source": []
  }
 ],
 "metadata": {
  "kernelspec": {
   "display_name": "Python 3",
   "language": "python",
   "name": "python3"
  },
  "language_info": {
   "codemirror_mode": {
    "name": "ipython",
    "version": 3
   },
   "file_extension": ".py",
   "mimetype": "text/x-python",
   "name": "python",
   "nbconvert_exporter": "python",
   "pygments_lexer": "ipython3",
   "version": "3.6.5"
  }
 },
 "nbformat": 4,
 "nbformat_minor": 2
}
