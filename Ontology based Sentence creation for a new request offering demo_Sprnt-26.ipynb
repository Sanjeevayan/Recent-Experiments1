{
 "cells": [
  {
   "cell_type": "code",
   "execution_count": null,
   "metadata": {},
   "outputs": [],
   "source": [
    "# Three steps: Ontology creation, Domain Ontology Knowledge Base creation, Ontology Parsing, Generation \n",
    "#Visualization: E-mail Services, Computer Accessories\n"
   ]
  },
  {
   "cell_type": "markdown",
   "metadata": {},
   "source": [
    "# New Request Offering: Laptop requisition\n",
    "\n",
    "# Check the ontology knowledge base for the New User request offering\n",
    "# If term found , then load the domain ontology and expand the term through ontology lookup\n",
    "\n",
    "#Convert OWL file into JSON"
   ]
  },
  {
   "cell_type": "code",
   "execution_count": 11,
   "metadata": {},
   "outputs": [
    {
     "name": "stdout",
     "output_type": "stream",
     "text": [
      "{\n",
      "    \"Desktop:Computer\": {\n",
      "        \"desc\": \"\",\n",
      "        \"id\": \"Desktop:Computer\",\n",
      "        \"name\": \"\",\n",
      "        \"other\": {},\n",
      "        \"relations\": {\n",
      "            \"is_a\": [\n",
      "                \"Laptop\"\n",
      "            ]\n",
      "        }\n",
      "    },\n",
      "    \"Equipment:Loaner\": {\n",
      "        \"desc\": \"\",\n",
      "        \"id\": \"Equipment:Loaner\",\n",
      "        \"name\": \"\",\n",
      "        \"other\": {},\n",
      "        \"relations\": {\n",
      "            \"is_a\": [\n",
      "                \"Laptop\"\n",
      "            ]\n",
      "        }\n",
      "    },\n",
      "    \"Hardware:Provisioning\": {\n",
      "        \"desc\": \"\",\n",
      "        \"id\": \"Hardware:Provisioning\",\n",
      "        \"name\": \"\",\n",
      "        \"other\": {},\n",
      "        \"relations\": {\n",
      "            \"is_a\": [\n",
      "                \"Laptop\"\n",
      "            ]\n",
      "        }\n",
      "    },\n",
      "    \"Laptop\": {\n",
      "        \"desc\": \"\",\n",
      "        \"id\": \"Laptop\",\n",
      "        \"name\": \"\",\n",
      "        \"other\": {},\n",
      "        \"relations\": {\n",
      "            \"can_be\": [\n",
      "                \"Desktop:Computer\",\n",
      "                \"Equipment:Loaner\",\n",
      "                \"Hardware:Provisioning\",\n",
      "                \"Laptop:Computer\",\n",
      "                \"New:Computer\",\n",
      "                \"New:Tablet\",\n",
      "                \"Optional:Multiple:Software:Installations\",\n",
      "                \"Optional:Softwrae:Installation\",\n",
      "                \"Optional:Softwrae:Uninstallation\"\n",
      "            ]\n",
      "        }\n",
      "    },\n",
      "    \"Laptop:Computer\": {\n",
      "        \"desc\": \"\",\n",
      "        \"id\": \"Laptop:Computer\",\n",
      "        \"name\": \"\",\n",
      "        \"other\": {},\n",
      "        \"relations\": {\n",
      "            \"is_a\": [\n",
      "                \"Laptop\"\n",
      "            ]\n",
      "        }\n",
      "    },\n",
      "    \"New:Computer\": {\n",
      "        \"desc\": \"\",\n",
      "        \"id\": \"New:Computer\",\n",
      "        \"name\": \"\",\n",
      "        \"other\": {},\n",
      "        \"relations\": {\n",
      "            \"is_a\": [\n",
      "                \"Laptop\"\n",
      "            ]\n",
      "        }\n",
      "    },\n",
      "    \"New:Tablet\": {\n",
      "        \"desc\": \"\",\n",
      "        \"id\": \"New:Tablet\",\n",
      "        \"name\": \"\",\n",
      "        \"other\": {},\n",
      "        \"relations\": {\n",
      "            \"is_a\": [\n",
      "                \"Laptop\"\n",
      "            ]\n",
      "        }\n",
      "    },\n",
      "    \"Optional:Multiple:Software:Installations\": {\n",
      "        \"desc\": \"\",\n",
      "        \"id\": \"Optional:Multiple:Software:Installations\",\n",
      "        \"name\": \"\",\n",
      "        \"other\": {},\n",
      "        \"relations\": {\n",
      "            \"is_a\": [\n",
      "                \"Laptop\"\n",
      "            ]\n",
      "        }\n",
      "    },\n",
      "    \"Optional:Softwrae:Installation\": {\n",
      "        \"desc\": \"\",\n",
      "        \"id\": \"Optional:Softwrae:Installation\",\n",
      "        \"name\": \"\",\n",
      "        \"other\": {},\n",
      "        \"relations\": {\n",
      "            \"is_a\": [\n",
      "                \"Laptop\"\n",
      "            ]\n",
      "        }\n",
      "    },\n",
      "    \"Optional:Softwrae:Uninstallation\": {\n",
      "        \"desc\": \"\",\n",
      "        \"id\": \"Optional:Softwrae:Uninstallation\",\n",
      "        \"name\": \"\",\n",
      "        \"other\": {},\n",
      "        \"relations\": {\n",
      "            \"is_a\": [\n",
      "                \"Laptop\"\n",
      "            ]\n",
      "        }\n",
      "    }\n",
      "}\n"
     ]
    }
   ],
   "source": [
    "import pronto\n",
    "ont = pronto.Ontology('/Users/kumarsanjeev/Desktop/Desktops & Laptops Request.owl')\n",
    "#ont = pronto.Ontology('/Users/kumarsanjeev/Desktop/Combined.owl')\n",
    "#print(ont.obo)\n",
    "print(ont.json)\n",
    "ontJSON = ont.json"
   ]
  },
  {
   "cell_type": "markdown",
   "metadata": {},
   "source": [
    "\n",
    "# Load the JSON file\n"
   ]
  },
  {
   "cell_type": "code",
   "execution_count": 12,
   "metadata": {},
   "outputs": [],
   "source": [
    "import json\n",
    "\n",
    "d = json.loads(ontJSON)"
   ]
  },
  {
   "cell_type": "markdown",
   "metadata": {},
   "source": [
    "# Parse the Ontology and retrieve the Child nodes(sub calss)"
   ]
  },
  {
   "cell_type": "code",
   "execution_count": 15,
   "metadata": {},
   "outputs": [],
   "source": [
    "a = list(d.values())\n",
    "var = a[0]['relations']['is_a'][0]"
   ]
  },
  {
   "cell_type": "code",
   "execution_count": 16,
   "metadata": {},
   "outputs": [
    {
     "name": "stdout",
     "output_type": "stream",
     "text": [
      "['Desktop:Computer', 'Equipment:Loaner', 'Hardware:Provisioning', 'Laptop:Computer', 'New:Computer', 'New:Tablet', 'Optional:Multiple:Software:Installations', 'Optional:Softwrae:Installation', 'Optional:Softwrae:Uninstallation']\n"
     ]
    }
   ],
   "source": [
    "a = d[var][\"relations\"][\"can_be\"]\n",
    "print (a)"
   ]
  },
  {
   "cell_type": "markdown",
   "metadata": {},
   "source": [
    "# Generation of Training Utterances/Sentences"
   ]
  },
  {
   "cell_type": "code",
   "execution_count": 17,
   "metadata": {},
   "outputs": [
    {
     "name": "stdout",
     "output_type": "stream",
     "text": [
      "I want to have a New Tablet .\n",
      "I want to have a New Tablet .\n",
      "I want to have a New Computer .\n",
      "I would like to have a Optional Softwrae Installation .\n",
      "I need a Optional Softwrae Installation .\n",
      "I would like to have a Desktop Computer .\n",
      "I need a New Computer .\n",
      "I would like to have a New Computer .\n",
      "I want to have a New Computer .\n",
      "I would like to have a Optional Softwrae Installation .\n",
      "I want to have a Desktop Computer .\n",
      "I need a New Computer .\n",
      "I need a Hardware Provisioning .\n",
      "I would like to have a Optional Softwrae Uninstallation .\n",
      "I want a Hardware Provisioning .\n",
      "I would like to have a Optional Softwrae Uninstallation .\n",
      "I want a New Tablet .\n",
      "I need a Hardware Provisioning .\n",
      "I would like to have a Laptop Computer .\n",
      "I need a New Tablet .\n"
     ]
    }
   ],
   "source": [
    "import random\n",
    "for _ in range(20):\n",
    "    subj = [\"I\"]\n",
    "    verb = [\"want\",\"need\",\"want to have\",\"would like to have\"]# Pattern words: User will have to provide keywords for the verbs to dentify the patterns. \n",
    "    det = [\"a\"]\n",
    "    obj = a\n",
    "\n",
    "#     obj = []\n",
    "#     for i in a:\n",
    "#         obj.append(i)\n",
    "\n",
    "    l=[subj,verb,det,obj,\".\"] \n",
    "    m = ' '.join([random.choice(i) for i in l])\n",
    "    print (m.replace(\":\",\" \"))\n",
    "     \n",
    "\n"
   ]
  },
  {
   "cell_type": "code",
   "execution_count": null,
   "metadata": {},
   "outputs": [],
   "source": []
  },
  {
   "cell_type": "code",
   "execution_count": null,
   "metadata": {},
   "outputs": [],
   "source": []
  },
  {
   "cell_type": "code",
   "execution_count": null,
   "metadata": {},
   "outputs": [],
   "source": [
    "#Option2"
   ]
  },
  {
   "cell_type": "code",
   "execution_count": 10,
   "metadata": {},
   "outputs": [],
   "source": [
    "taxonomydict = {}"
   ]
  },
  {
   "cell_type": "code",
   "execution_count": 11,
   "metadata": {},
   "outputs": [],
   "source": [
    "taxonomydict[\"laptop\"] = [\"HP\", \"Dell\", \"Macbook\"]\n",
    "a = []\n",
    "for item in taxonomydict[\"laptop\"]:\n",
    "    a.append(item)\n",
    "#print(a) "
   ]
  },
  {
   "cell_type": "code",
   "execution_count": 12,
   "metadata": {},
   "outputs": [
    {
     "name": "stdout",
     "output_type": "stream",
     "text": [
      "I want to have new Macbook .\n",
      "I want new Macbook .\n",
      "I would like to have new Macbook .\n",
      "I want to have new Dell .\n",
      "I want to have new Macbook .\n",
      "I need new HP .\n",
      "I need new Dell .\n",
      "I want new Dell .\n",
      "I need new HP .\n",
      "I want new Macbook .\n",
      "I would like to have new Dell .\n",
      "I want new Dell .\n",
      "I want new Macbook .\n",
      "I would like to have new Dell .\n",
      "I want new Macbook .\n"
     ]
    }
   ],
   "source": [
    "import random\n",
    "for _ in range(15):\n",
    "    subj = [\"I\"]\n",
    "    verb = [\"want\",\"need\",\"want to have\",\"would like to have\"]# Pattern words: User will have to provide keywords for the verbs to dentify the patterns. \n",
    "    adj = [\"new\"]\n",
    "    obj = []#adds all the  entities and taxonomy terms extracted by word2vec Model\n",
    "    for i in a:\n",
    "        obj.append(i)\n",
    "\n",
    "    l=[subj,verb,adj,obj,\".\"] \n",
    "    m = ' '.join([random.choice(i) for i in l])\n",
    "    print (m)"
   ]
  },
  {
   "cell_type": "code",
   "execution_count": null,
   "metadata": {},
   "outputs": [],
   "source": []
  }
 ],
 "metadata": {
  "kernelspec": {
   "display_name": "Python 3",
   "language": "python",
   "name": "python3"
  },
  "language_info": {
   "codemirror_mode": {
    "name": "ipython",
    "version": 3
   },
   "file_extension": ".py",
   "mimetype": "text/x-python",
   "name": "python",
   "nbconvert_exporter": "python",
   "pygments_lexer": "ipython3",
   "version": "3.6.5"
  }
 },
 "nbformat": 4,
 "nbformat_minor": 2
}
