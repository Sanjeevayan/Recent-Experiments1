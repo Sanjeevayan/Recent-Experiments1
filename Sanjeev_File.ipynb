{
 "cells": [
  {
   "cell_type": "code",
   "execution_count": 327,
   "metadata": {},
   "outputs": [],
   "source": [
    "import json\n",
    "from pprint import pprint\n",
    "\n",
    "with open('Mobile_Computer.json') as f:\n",
    "    data = json.load(f)"
   ]
  },
  {
   "cell_type": "code",
   "execution_count": 328,
   "metadata": {},
   "outputs": [
    {
     "name": "stdout",
     "output_type": "stream",
     "text": [
      "777\n",
      "37\n"
     ]
    }
   ],
   "source": [
    "maping_dict = {}\n",
    "maping_broadr_to_narrower = {}\n",
    "for i in data['concepts']:\n",
    "    try : \n",
    "        maping_dict[i['notation'][0]] = i['prefLabel']['en']\n",
    "        \n",
    "    except :\n",
    "        continue\n",
    "print(len(maping_dict))   \n",
    "for i in data['concepts']:\n",
    "    try : \n",
    "        maping_broadr_to_narrower[i['notation'][0]] = [j['uri'].split('/')[-1] for j in i['narrower']]\n",
    "        #maping_broadr_to_narrower.update(i['notation'][0]  ,[j['uri'].split('/')[-1] for j in i['narrower']\n",
    "    except:\n",
    "        continue\n",
    "print(len(maping_broadr_to_narrower))  "
   ]
  },
  {
   "cell_type": "code",
   "execution_count": 329,
   "metadata": {},
   "outputs": [],
   "source": [
    "global word2number\n",
    "word2number = dict((v,k) for k,v in maping_dict.items())"
   ]
  },
  {
   "cell_type": "code",
   "execution_count": 330,
   "metadata": {},
   "outputs": [],
   "source": [
    "def nodes(string):\n",
    "    list_of_nodes = []\n",
    "    main_word_list = []\n",
    "    a = word2number[string]\n",
    "    try:\n",
    "        no_of_nodes = maping_broadr_to_narrower[a]\n",
    "        def recursion(no_of_nodes ,list_of_nodes):\n",
    "            try:\n",
    "                for i in no_of_nodes:\n",
    "                    try:\n",
    "                        #print(maping_broadr_to_narrower[i])\n",
    "                        node = maping_broadr_to_narrower[i]\n",
    "                        list_of_nodes.extend(node)\n",
    "                        recursion(node , list_of_nodes)  \n",
    "                    except:\n",
    "                        pass   \n",
    "            except:\n",
    "                return\n",
    "            if len(list_of_nodes) > 0:\n",
    "                return list_of_nodes\n",
    "        call = recursion(no_of_nodes ,list_of_nodes)\n",
    "\n",
    "        if call is None:\n",
    "            for j in no_of_nodes:\n",
    "                try:\n",
    "                    main_word_list.append(maping_dict[j])\n",
    "                except:\n",
    "                    continue \n",
    "            return main_word_list\n",
    "        else:\n",
    "            for j in no_of_nodes+ call  :\n",
    "                try:\n",
    "                    main_word_list.append(maping_dict[j])\n",
    "                except:\n",
    "                    continue\n",
    "            return main_word_list\n",
    "    except:\n",
    "        print(\"give the user input : \")\n",
    "    #print(no_of_nodes)\n",
    "    \n",
    "        \n",
    "        \n",
    "        \n",
    "        "
   ]
  },
  {
   "cell_type": "code",
   "execution_count": 340,
   "metadata": {},
   "outputs": [
    {
     "data": {
      "text/plain": [
       "['ASUS Eee PC',\n",
       " 'Acer Aspire One',\n",
       " 'MSI Wind Netbook',\n",
       " 'Astone UMPC',\n",
       " 'Asus Eee PC S101',\n",
       " 'Lenovo IdeaPad S12',\n",
       " 'Skytone Alpha-400',\n",
       " 'Touch Book',\n",
       " 'Lenovo IdeaPad S100',\n",
       " 'Pine64']"
      ]
     },
     "execution_count": 340,
     "metadata": {},
     "output_type": "execute_result"
    }
   ],
   "source": [
    "a = nodes('netbook')\n",
    "a"
   ]
  },
  {
   "cell_type": "code",
   "execution_count": 129,
   "metadata": {},
   "outputs": [],
   "source": [
    "# for i in data['concepts']:\n",
    "#     try:\n",
    "#         print(len(i['narrower']) ,i['prefLabel']['en'])\n",
    "#     except:\n",
    "#         continue"
   ]
  },
  {
   "cell_type": "code",
   "execution_count": null,
   "metadata": {},
   "outputs": [],
   "source": []
  },
  {
   "cell_type": "code",
   "execution_count": null,
   "metadata": {},
   "outputs": [],
   "source": []
  }
 ],
 "metadata": {
  "kernelspec": {
   "display_name": "Python 3",
   "language": "python",
   "name": "python3"
  },
  "language_info": {
   "codemirror_mode": {
    "name": "ipython",
    "version": 3
   },
   "file_extension": ".py",
   "mimetype": "text/x-python",
   "name": "python",
   "nbconvert_exporter": "python",
   "pygments_lexer": "ipython3",
   "version": "3.6.5"
  }
 },
 "nbformat": 4,
 "nbformat_minor": 2
}
