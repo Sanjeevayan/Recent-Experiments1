{
 "cells": [
  {
   "cell_type": "markdown",
   "metadata": {},
   "source": [
    "# Load the Wikipedia Taxonomy\n"
   ]
  },
  {
   "cell_type": "code",
   "execution_count": 1,
   "metadata": {},
   "outputs": [
    {
     "name": "stderr",
     "output_type": "stream",
     "text": [
      "/Users/kumarsanjeev/anaconda3/lib/python3.6/site-packages/requests/__init__.py:80: RequestsDependencyWarning: urllib3 (1.22) or chardet (2.3.0) doesn't match a supported version!\n",
      "  RequestsDependencyWarning)\n"
     ]
    }
   ],
   "source": [
    "import spacy\n",
    "import random\n",
    "import json\n",
    "path = \"/Users/kumarsanjeev/Desktop/Wiki-Taxonomies/Mobile_Computer.json\""
   ]
  },
  {
   "cell_type": "markdown",
   "metadata": {},
   "source": [
    "# Node Traversal (till leaf node)"
   ]
  },
  {
   "cell_type": "code",
   "execution_count": 2,
   "metadata": {},
   "outputs": [],
   "source": [
    "class sentence_generation:\n",
    "    def __init__(self):\n",
    "        pass\n",
    "    def processing(self , path):\n",
    "        mobile_computer_ont = path\n",
    "        with open(mobile_computer_ont) as f:\n",
    "            data = json.load(f)\n",
    "        maping_dict = {}\n",
    "        maping_broadr_to_narrower = {}\n",
    "        for i in data['concepts']:\n",
    "            try : \n",
    "                maping_dict[i['notation'][0]] = i['prefLabel']['en'].lower()\n",
    "\n",
    "            except :\n",
    "                continue\n",
    "        print(len(maping_dict))   \n",
    "        for i in data['concepts']:\n",
    "            try : \n",
    "                maping_broadr_to_narrower[i['notation'][0]] = [j['uri'].split('/')[-1] for j in i['narrower']]\n",
    "                #maping_broadr_to_narrower.update(i['notation'][0]  ,[j['uri'].split('/')[-1] for j in i['narrower']\n",
    "            except:\n",
    "                continue\n",
    "        print(len(maping_broadr_to_narrower))\n",
    "        return [maping_broadr_to_narrower ,maping_dict]\n",
    "    def nodes(self , string ,maping_broadr_to_narrower ,maping_dict):\n",
    "        word2number = dict((v,k) for k,v in maping_dict.items())\n",
    "        list_of_nodes = []\n",
    "        main_word_list = []\n",
    "        #a = word2number[string]\n",
    "        try:\n",
    "            a = word2number[string]\n",
    "            no_of_nodes = maping_broadr_to_narrower[a]\n",
    "            def recursion(no_of_nodes ,list_of_nodes):\n",
    "                try:\n",
    "                    for i in no_of_nodes:\n",
    "                        try:\n",
    "                            #print(maping_broadr_to_narrower[i])\n",
    "                            node = maping_broadr_to_narrower[i]\n",
    "                            list_of_nodes.extend(node)\n",
    "                            recursion(node , list_of_nodes)  \n",
    "                        except:\n",
    "                            pass   \n",
    "                except:\n",
    "                    return\n",
    "                if len(list_of_nodes) > 0:\n",
    "                    return list_of_nodes\n",
    "            call = recursion(no_of_nodes ,list_of_nodes)\n",
    "\n",
    "            if call is None:\n",
    "                for j in no_of_nodes:\n",
    "                    try:\n",
    "                        main_word_list.append(maping_dict[j])\n",
    "                    except:\n",
    "                        continue \n",
    "                return main_word_list\n",
    "            else:\n",
    "                for j in no_of_nodes+ call  :\n",
    "                    try:\n",
    "                        main_word_list.append(maping_dict[j])\n",
    "                    except:\n",
    "                        continue\n",
    "                return main_word_list\n",
    "        except:\n",
    "            print(\"give the user input : \")\n",
    "            obj = [input().split(',')][0]\n",
    "            return obj\n",
    "            #obj = [input().split(',')][0]\n",
    "\n",
    "    def dependency_parsing(self):\n",
    "        nlp = spacy.load('en_core_web_sm')\n",
    "        #doc = nlp(u\"The Boys want to reset domain password.\")\n",
    "        stop_word = [\"a\",\"an\",\"the\",\"my\",\"new\"]\n",
    "        string = input(\"Type a seed utterence:\")\n",
    "        new_doc = ''\n",
    "        for i in string.split():\n",
    "            if i in stop_word:\n",
    "                continue\n",
    "            else :\n",
    "                new_doc = new_doc+' '+i\n",
    "        doc1 = nlp(new_doc)\n",
    "\n",
    "        chunk_list1 = []      \n",
    "        for chunk in doc1.noun_chunks:\n",
    "            chunk_list1.append(chunk.text)\n",
    "        chunk_list1.append(chunk.root.head.text)\n",
    "        chunk_list1[-1] ,chunk_list1[-2] = chunk_list1[-2] ,chunk_list1[-1]\n",
    "        print (\"Subject is:\",chunk_list1[0],\"\\n\",\"Predicate is:\",chunk_list1[1],\"\\n\",\"Object is:\",chunk_list1[2])\n",
    "        \n",
    "\n",
    "        return [chunk_list1[0] ,chunk_list1[1] ,chunk_list1[2]]\n",
    "    \n",
    "    def training_sentence_generation(self,a):\n",
    "    \n",
    "        print (\"Generated Training Utterences are:\\n\")\n",
    "\n",
    "        for _ in range(40):\n",
    "           \n",
    "            subj = [\"I\"]\n",
    "            verb = [\"want\",\"need\",\"want to have\",\"would like to have\"]# Pattern words: User will have to provide keywords for the verbs to dentify the patterns. \n",
    "            det = [\"a\"]\n",
    "            adj = [\"new\"]\n",
    "            obj = []\n",
    "            for i in a:\n",
    "                obj.append(i)\n",
    "\n",
    "            l=[subj,verb,det,adj,obj,\".\"] \n",
    "\n",
    "            m = ' '.join([random.choice(i) for i in l])\n",
    "\n",
    "            print (m.replace(\":\",\" \"))\n",
    "\n",
    "#print (\"Subject is:\",chunk_list1[0],\"\\n\",\"Predicate is:\",chunk_list1[1],\"\\n\",\"Object is:\",chunk_list1[2])"
   ]
  },
  {
   "cell_type": "code",
   "execution_count": 14,
   "metadata": {},
   "outputs": [],
   "source": [
    "object = sentence_generation()\n"
   ]
  },
  {
   "cell_type": "markdown",
   "metadata": {},
   "source": [
    "# Dependecy Parsing"
   ]
  },
  {
   "cell_type": "code",
   "execution_count": 23,
   "metadata": {},
   "outputs": [
    {
     "name": "stdout",
     "output_type": "stream",
     "text": [
      "Type a seed utterence:I want a ThinkPad.\n",
      "Subject is:  I \n",
      " Predicate is: want \n",
      " Object is: ThinkPad\n"
     ]
    }
   ],
   "source": [
    "parse_value = object.dependency_parsing()\n",
    "\n",
    "#ThinkPad,laptop,MacBook,Ultrabook,netBook"
   ]
  },
  {
   "cell_type": "code",
   "execution_count": 24,
   "metadata": {},
   "outputs": [
    {
     "name": "stdout",
     "output_type": "stream",
     "text": [
      "777\n",
      "37\n"
     ]
    }
   ],
   "source": [
    "values = object.processing(path)"
   ]
  },
  {
   "cell_type": "markdown",
   "metadata": {},
   "source": [
    "# Child Node Extraction from Domain Ontology"
   ]
  },
  {
   "cell_type": "code",
   "execution_count": 25,
   "metadata": {},
   "outputs": [
    {
     "data": {
      "text/plain": [
       "['thinkpad t series',\n",
       " 'thinkpad x1 carbon',\n",
       " 'thinkpad w series',\n",
       " 'thinkpad x series',\n",
       " 'thinkpad x200 series']"
      ]
     },
     "execution_count": 25,
     "metadata": {},
     "output_type": "execute_result"
    }
   ],
   "source": [
    "list_of_nodes = object.nodes(parse_value[-1].lower() ,values[0] ,values[1])\n",
    "list_of_nodes"
   ]
  },
  {
   "cell_type": "code",
   "execution_count": null,
   "metadata": {},
   "outputs": [],
   "source": []
  },
  {
   "cell_type": "code",
   "execution_count": 26,
   "metadata": {},
   "outputs": [
    {
     "name": "stdout",
     "output_type": "stream",
     "text": [
      "Generated Training Utterences are:\n",
      "\n",
      "I want to have a new thinkpad x series .\n",
      "I want to have a new thinkpad w series .\n",
      "I want a new thinkpad x series .\n",
      "I want to have a new thinkpad x200 series .\n",
      "I would like to have a new thinkpad x series .\n",
      "I would like to have a new thinkpad x series .\n",
      "I need a new thinkpad t series .\n",
      "I would like to have a new thinkpad x1 carbon .\n",
      "I would like to have a new thinkpad t series .\n",
      "I want a new thinkpad x1 carbon .\n",
      "I need a new thinkpad t series .\n",
      "I want to have a new thinkpad t series .\n",
      "I would like to have a new thinkpad x1 carbon .\n",
      "I want a new thinkpad x series .\n",
      "I would like to have a new thinkpad t series .\n",
      "I want to have a new thinkpad w series .\n",
      "I want a new thinkpad x1 carbon .\n",
      "I want a new thinkpad x series .\n",
      "I want a new thinkpad t series .\n",
      "I would like to have a new thinkpad x series .\n",
      "I want to have a new thinkpad x1 carbon .\n",
      "I would like to have a new thinkpad x series .\n",
      "I want to have a new thinkpad t series .\n",
      "I want to have a new thinkpad x200 series .\n",
      "I want to have a new thinkpad x200 series .\n",
      "I want to have a new thinkpad x series .\n",
      "I want to have a new thinkpad w series .\n",
      "I want a new thinkpad x200 series .\n",
      "I want a new thinkpad w series .\n",
      "I need a new thinkpad x1 carbon .\n",
      "I want to have a new thinkpad x1 carbon .\n",
      "I want a new thinkpad x series .\n",
      "I need a new thinkpad w series .\n",
      "I need a new thinkpad x200 series .\n",
      "I want to have a new thinkpad t series .\n",
      "I need a new thinkpad x1 carbon .\n",
      "I want to have a new thinkpad t series .\n",
      "I need a new thinkpad w series .\n",
      "I want to have a new thinkpad x1 carbon .\n",
      "I need a new thinkpad x series .\n"
     ]
    }
   ],
   "source": [
    "object.training_sentence_generation(list_of_nodes)"
   ]
  },
  {
   "cell_type": "code",
   "execution_count": null,
   "metadata": {},
   "outputs": [],
   "source": []
  },
  {
   "cell_type": "code",
   "execution_count": null,
   "metadata": {},
   "outputs": [],
   "source": []
  }
 ],
 "metadata": {
  "kernelspec": {
   "display_name": "Python 3",
   "language": "python",
   "name": "python3"
  },
  "language_info": {
   "codemirror_mode": {
    "name": "ipython",
    "version": 3
   },
   "file_extension": ".py",
   "mimetype": "text/x-python",
   "name": "python",
   "nbconvert_exporter": "python",
   "pygments_lexer": "ipython3",
   "version": "3.6.5"
  }
 },
 "nbformat": 4,
 "nbformat_minor": 2
}
