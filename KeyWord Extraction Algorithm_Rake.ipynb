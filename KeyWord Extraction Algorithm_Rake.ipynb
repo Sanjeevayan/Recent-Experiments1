{
 "cells": [
  {
   "cell_type": "code",
   "execution_count": 3,
   "metadata": {},
   "outputs": [
    {
     "name": "stdout",
     "output_type": "stream",
     "text": [
      "['minimal generating sets', 'linear diophantine equations', 'minimal supporting set', 'minimal set', 'linear constraints', 'upper bounds', 'strict inequations', 'nonstrict inequations', 'natural numbers', 'corresponding algorithms', 'set', 'algorithms', 'used', 'types', 'systems', 'system', 'solving', 'solutions', 'problems', 'given', 'criteria', 'construction', 'constructing', 'considered', 'components', 'compatibility']\n"
     ]
    }
   ],
   "source": [
    "#https://pypi.org/project/rake-nltk/\n",
    "from rake_nltk import Rake\n",
    "\n",
    "r = Rake() # Uses stopwords for english from NLTK, and all puntuation characters.\n",
    "\n",
    "text = \"Compatibility of systems of linear constraints over the set of natural numbers. Criteria of compatibility of a system of linear Diophantine equations, strict inequations, and nonstrict inequations are considered. Upper bounds for components of a minimal set of solutions and algorithms of construction of minimal generating sets of solutions for all types of systems are given. These criteria and the corresponding algorithms for constructing a minimal supporting set of solutions can be used in solving all the problems.\"\n",
    "\n",
    "r.extract_keywords_from_text(text)\n",
    "\n",
    "print(r.get_ranked_phrases()) # To get keyword phrases ranked highest to lowest."
   ]
  },
  {
   "cell_type": "code",
   "execution_count": 5,
   "metadata": {},
   "outputs": [
    {
     "name": "stdout",
     "output_type": "stream",
     "text": [
      "['minimal generating sets', 'linear diophantine equations', 'minimal supporting set', 'minimal set', 'linear constraints', 'upper bounds', 'strict inequations', 'nonstrict inequations', 'natural numbers', 'corresponding algorithms', 'set', 'algorithms', 'used', 'types', 'systems', 'system', 'solving', 'solutions', 'problems', 'given', 'criteria', 'construction', 'constructing', 'considered', 'components', 'compatibility']\n",
      "minimal generating sets\n",
      "linear diophantine equations\n",
      "minimal supporting set\n",
      "minimal set\n",
      "linear constraints\n",
      "upper bounds\n",
      "strict inequations\n",
      "nonstrict inequations\n",
      "natural numbers\n",
      "corresponding algorithms\n",
      "set\n",
      "algorithms\n",
      "used\n",
      "types\n",
      "systems\n",
      "system\n",
      "solving\n",
      "solutions\n",
      "problems\n",
      "given\n",
      "criteria\n",
      "construction\n",
      "constructing\n",
      "considered\n",
      "components\n",
      "compatibility\n"
     ]
    }
   ],
   "source": []
  },
  {
   "cell_type": "code",
   "execution_count": 6,
   "metadata": {},
   "outputs": [
    {
     "name": "stdout",
     "output_type": "stream",
     "text": [
      "['new laptop', 'want']\n"
     ]
    }
   ],
   "source": [
    "from rake_nltk import Rake\n",
    "\n",
    "r = Rake() # Uses stopwords for english from NLTK, and all puntuation characters.\n",
    "\n",
    "#text = \"Compatibility of systems of linear constraints over the set of natural numbers. Criteria of compatibility of a system of linear Diophantine equations, strict inequations, and nonstrict inequations are considered. Upper bounds for components of a minimal set of solutions and algorithms of construction of minimal generating sets of solutions for all types of systems are given. These criteria and the corresponding algorithms for constructing a minimal supporting set of solutions can be used in solving all the problems.\"\n",
    "\n",
    "text = \"I want a new laptop.\"\n",
    "r.extract_keywords_from_text(text)\n",
    "\n",
    "print(r.get_ranked_phrases())"
   ]
  },
  {
   "cell_type": "code",
   "execution_count": 8,
   "metadata": {},
   "outputs": [
    {
     "data": {
      "text/plain": [
       "2"
      ]
     },
     "execution_count": 8,
     "metadata": {},
     "output_type": "execute_result"
    }
   ],
   "source": [
    "a = [\"corresponding\",\"algorithms\"]\n",
    "len(a)"
   ]
  },
  {
   "cell_type": "code",
   "execution_count": 19,
   "metadata": {},
   "outputs": [
    {
     "name": "stdout",
     "output_type": "stream",
     "text": [
      "The\n",
      "spell\n",
      "of\n",
      "arms\n",
      "and\n",
      "voices:\n",
      "the\n",
      "white\n",
      "arms\n",
      "of\n",
      "roads,\n",
      "their\n",
      "promise\n",
      "of\n",
      "close\n",
      "embraces\n",
      "and\n",
      "the\n",
      "black\n",
      "arms\n",
      "of\n",
      "tall\n",
      "ships\n",
      "that\n",
      "stand\n",
      "against\n",
      "the\n",
      "moon,\n",
      "their\n",
      "tale\n",
      "of\n",
      "distant\n",
      "nations.\n",
      "They\n",
      "are\n",
      "held\n",
      "out\n",
      "to\n",
      "say:\n",
      "We\n",
      "are\n",
      "alone--come.\n",
      "And\n",
      "the\n",
      "voices\n",
      "say\n",
      "with\n",
      "them:\n",
      "We\n",
      "are\n",
      "your\n",
      "kinsmen.\n",
      "And\n",
      "the\n",
      "air\n",
      "is\n",
      "thick\n",
      "with\n",
      "their\n",
      "company\n",
      "as\n",
      "they\n",
      "call\n",
      "to\n",
      "me,\n",
      "their\n",
      "kinsman,\n",
      "making\n",
      "ready\n",
      "to\n",
      "go,\n",
      "shaking\n",
      "the\n",
      "wings\n",
      "of\n",
      "their\n",
      "exultant\n",
      "and\n",
      "terrible\n",
      "youth.\n",
      "Mother\n",
      "is\n",
      "putting\n",
      "my\n",
      "new\n",
      "secondhand\n",
      "clothes\n",
      "in\n",
      "order.\n",
      "She\n",
      "prays\n",
      "now,\n",
      "she\n",
      "says,\n",
      "that\n",
      "I\n",
      "may\n",
      "learn\n",
      "in\n",
      "my\n",
      "own\n",
      "life\n",
      "and\n",
      "away\n",
      "from\n",
      "home\n",
      "and\n",
      "friends\n",
      "what\n",
      "the\n",
      "heart\n",
      "is\n",
      "and\n",
      "what\n",
      "it\n",
      "feels.\n",
      "Amen.\n",
      "So\n",
      "be\n",
      "it.\n",
      "Welcome,\n",
      "O\n",
      "life,\n",
      "I\n",
      "go\n",
      "to\n",
      "encounter\n",
      "for\n",
      "the\n",
      "millionth\n",
      "time\n",
      "the\n",
      "reality\n",
      "of\n",
      "experience\n",
      "and\n",
      "to\n",
      "forge\n",
      "in\n",
      "the\n",
      "smithy\n",
      "of\n",
      "my\n",
      "soul\n",
      "the\n",
      "uncreated\n",
      "conscience\n",
      "of\n",
      "my\n",
      "race.\n"
     ]
    }
   ],
   "source": [
    "sample_file = open(\"/Users/kumarsanjeev/Desktop/Test1.txt\")\n",
    "#sample_file =open(\"/Users/kumarsanjeev/Desktop/Test2.txt\")\n",
    "\n",
    "sample_file1 = sample_file.read()\n",
    "\n",
    "for line in sample_file1.split():\n",
    "    print(line)"
   ]
  },
  {
   "cell_type": "code",
   "execution_count": 20,
   "metadata": {},
   "outputs": [
    {
     "ename": "ModuleNotFoundError",
     "evalue": "No module named 'PyPDF2'",
     "output_type": "error",
     "traceback": [
      "\u001b[0;31m---------------------------------------------------------------------------\u001b[0m",
      "\u001b[0;31mModuleNotFoundError\u001b[0m                       Traceback (most recent call last)",
      "\u001b[0;32m<ipython-input-20-1f8e05d76970>\u001b[0m in \u001b[0;36m<module>\u001b[0;34m()\u001b[0m\n\u001b[0;32m----> 1\u001b[0;31m \u001b[0;32mimport\u001b[0m \u001b[0mPyPDF2\u001b[0m\u001b[0;34m\u001b[0m\u001b[0m\n\u001b[0m\u001b[1;32m      2\u001b[0m \u001b[0mhi\u001b[0m\u001b[0;34m\u001b[0m\u001b[0m\n",
      "\u001b[0;31mModuleNotFoundError\u001b[0m: No module named 'PyPDF2'"
     ]
    }
   ],
   "source": [
    "import PyPDF2\n",
    "hi"
   ]
  },
  {
   "cell_type": "code",
   "execution_count": 4,
   "metadata": {},
   "outputs": [
    {
     "name": "stdout",
     "output_type": "stream",
     "text": [
      "a\n",
      "b\n"
     ]
    }
   ],
   "source": [
    "keywords = [\"a\",\"b\"]\n",
    "for k in keywords:\n",
    "    print(k)"
   ]
  },
  {
   "cell_type": "code",
   "execution_count": 5,
   "metadata": {},
   "outputs": [
    {
     "ename": "ModuleNotFoundError",
     "evalue": "No module named 'rake'",
     "output_type": "error",
     "traceback": [
      "\u001b[0;31m---------------------------------------------------------------------------\u001b[0m",
      "\u001b[0;31mModuleNotFoundError\u001b[0m                       Traceback (most recent call last)",
      "\u001b[0;32m<ipython-input-5-d480745737de>\u001b[0m in \u001b[0;36m<module>\u001b[0;34m()\u001b[0m\n\u001b[0;32m----> 1\u001b[0;31m \u001b[0;32mimport\u001b[0m \u001b[0mrake\u001b[0m\u001b[0;34m\u001b[0m\u001b[0m\n\u001b[0m\u001b[1;32m      2\u001b[0m \u001b[0;34m\"hi\"\u001b[0m\u001b[0;34m\u001b[0m\u001b[0m\n",
      "\u001b[0;31mModuleNotFoundError\u001b[0m: No module named 'rake'"
     ]
    }
   ],
   "source": [
    "import rake\n",
    "\"hi\""
   ]
  },
  {
   "cell_type": "code",
   "execution_count": null,
   "metadata": {},
   "outputs": [],
   "source": [
    "import PyPDF2\n",
    "with open(path, 'rb') as f:\n",
    "  text = f.read()"
   ]
  }
 ],
 "metadata": {
  "kernelspec": {
   "display_name": "Python 3",
   "language": "python",
   "name": "python3"
  },
  "language_info": {
   "codemirror_mode": {
    "name": "ipython",
    "version": 3
   },
   "file_extension": ".py",
   "mimetype": "text/x-python",
   "name": "python",
   "nbconvert_exporter": "python",
   "pygments_lexer": "ipython3",
   "version": "3.6.5"
  }
 },
 "nbformat": 4,
 "nbformat_minor": 2
}
