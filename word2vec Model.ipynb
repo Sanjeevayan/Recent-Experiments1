{
 "cells": [
  {
   "cell_type": "code",
   "execution_count": 18,
   "metadata": {},
   "outputs": [
    {
     "name": "stdout",
     "output_type": "stream",
     "text": [
      "['Bilal', 'Asif', 'looked', 'toothless', 'and', 'even', 'Yasir', 'Shah', 'barring', 'the', 'minor', 'scares', 'looked', 'pretty', 'much', 'playable', 'throughout', 'the', 'day', '.', 'Debutant', 'Shaheen', 'showed', 'courage', 'but', 'Test', 'cricket', 'is', 'a', 'beast', 'of', 'another', 'magnitude', 'is', 'what', 'he', 'found', 'out', 'today', '.', 'But', 'the', 'day', 'belonged', 'to', 'the', 'New', 'Zealand', 'skipper', 'who', 'scored', 'his', '19th', 'Test', 'ton', '.', 'The', 'amalgamation', 'of', 'attack', 'and', 'defence', 'defied', 'the', 'hosts', 'and', 'they', 'were', 'brought', 'down', 'to', 'their', 'knees', '.', 'Day', '5', 'will', 'be', 'interesting', 'with', 'all', 'the', 'results', 'possible', '.', 'We', 'will', 'get', 'you', 'all', 'the', 'narrative', 'tomorrow', '.', 'Cheers', '!', 'We', 'all', 'thought', 'it', 'will', 'be', 'a', 'formality', 'for', 'Pakistan', 'on', 'day', '4', 'to', 'wrap', 'the', 'New', 'Zealand', 'innings', 'but', 'at', 'the', 'end', 'of', 'the', 'day', 'they', 'have', 'managed', 'only', '2', 'scalps', '.', 'New', 'Zealand', \"'s\", 'Rock', 'of', 'Gibraltar', '-', 'Kane', 'Williamson', '-', 'found', 'an', 'ally', 'in', 'the', 'form', 'of', 'Henry', 'Nicholls', '.', 'Together', ',', 'they', 'have', 'added', 'an', 'unbeaten', '212', 'runs', 'for', 'the', '5th', 'wicket', 'to', 'ensure', 'Pakistan', 'are', 'on', 'the', 'back', 'foot', '.', 'They', 'have', 'also', 'ensured', 'a', 'Pakistan', 'win', 'on', 'the', 'fifth', 'day', 'will', 'have', 'the', 'least', 'probability', '.', 'To', 'add', 'to', 'the', 'woes', 'of', 'the', 'Pakistan', 'unit', ',', 'Hasan', 'Ali', 'looked', 'less', 'than', '100', 'percent', 'and', 'that', 'meant', 'they', 'never', 'took', 'the', 'second', 'new', 'ball', '.']\n"
     ]
    },
    {
     "ename": "TypeError",
     "evalue": "'module' object is not callable",
     "output_type": "error",
     "traceback": [
      "\u001b[0;31m---------------------------------------------------------------------------\u001b[0m",
      "\u001b[0;31mTypeError\u001b[0m                                 Traceback (most recent call last)",
      "\u001b[0;32m<ipython-input-18-155d8640ceb4>\u001b[0m in \u001b[0;36m<module>\u001b[0;34m()\u001b[0m\n\u001b[1;32m     15\u001b[0m w2v_model = word2vec(tokenized_corpus, size=feature_size, \n\u001b[1;32m     16\u001b[0m                           \u001b[0mwindow\u001b[0m\u001b[0;34m=\u001b[0m\u001b[0mwindow_context\u001b[0m\u001b[0;34m,\u001b[0m \u001b[0mmin_count\u001b[0m\u001b[0;34m=\u001b[0m\u001b[0mmin_word_count\u001b[0m\u001b[0;34m,\u001b[0m\u001b[0;34m\u001b[0m\u001b[0m\n\u001b[0;32m---> 17\u001b[0;31m                           sample=sample, iter=50)\n\u001b[0m\u001b[1;32m     18\u001b[0m \u001b[0mprint\u001b[0m \u001b[0;34m(\u001b[0m\u001b[0mw2v_model\u001b[0m\u001b[0;34m)\u001b[0m\u001b[0;34m\u001b[0m\u001b[0m\n\u001b[1;32m     19\u001b[0m \u001b[0;31m#view similar words based on gensim's model\u001b[0m\u001b[0;34m\u001b[0m\u001b[0;34m\u001b[0m\u001b[0m\n",
      "\u001b[0;31mTypeError\u001b[0m: 'module' object is not callable"
     ]
    }
   ],
   "source": [
    "#https://www.kdnuggets.com/2018/04/robust-word2vec-models-gensim.html\n",
    "from gensim.models import word2vec\n",
    "from nltk import WordPunctTokenizer,word_tokenize\n",
    "norm_bible = \"Bilal Asif looked toothless and even Yasir Shah barring the minor scares looked pretty much playable throughout the day. Debutant Shaheen showed courage but Test cricket is a beast of another magnitude is what he found out today. But the day belonged to the New Zealand skipper who scored his 19th Test ton. The amalgamation of attack and defence defied the hosts and they were brought down to their knees. Day 5 will be interesting with all the results possible. We will get you all the narrative tomorrow. Cheers!We all thought it will be a formality for Pakistan on day 4 to wrap the New Zealand innings but at the end of the day they have managed only 2 scalps. New Zealand's Rock of Gibraltar - Kane Williamson - found an ally in the form of Henry Nicholls. Together, they have added an unbeaten 212 runs for the 5th wicket to ensure Pakistan are on the back foot. They have also ensured a Pakistan win on the fifth day will have the least probability. To add to the woes of the Pakistan unit, Hasan Ali looked less than 100 percent and that meant they never took the second new ball.\"\n",
    "# tokenize sentences in corpus\n",
    "# wpt = WordPunctTokenizer()\n",
    "# tokenized_corpus = [wpt.tokenize(document) for document in norm_bible]\n",
    "tokenized_corpus = word_tokenize(norm_bible)\n",
    "print (tokenized_corpus)\n",
    "# Set values for various parameters\n",
    "feature_size = 100    # Word vector dimensionality  \n",
    "window_context = 30          # Context window size                                                                                    \n",
    "min_word_count = 1   # Minimum word count                        \n",
    "sample = 1e-3   # Downsample setting for frequent words\n",
    "\n",
    "w2v_model = word2vec.Word2Vec(tokenized_corpus, size=feature_size, \n",
    "                          window=window_context, min_count=min_word_count,\n",
    "                          sample=sample, iter=50)\n",
    "print (w2v_model)\n",
    "#view similar words based on gensim's model\n",
    "similar_words = {search_term: [item[0] for item in w2v_model.wv.most_similar([search_term], topn=5)]\n",
    "                  for search_term in ['the', 'showed']}\n",
    "print (similar_words)"
   ]
  },
  {
   "cell_type": "code",
   "execution_count": 26,
   "metadata": {},
   "outputs": [
    {
     "name": "stdout",
     "output_type": "stream",
     "text": [
      "['Bilal Asif looked toothless and even Yasir Shah barring the minor scares looked pretty much playable throughout the day.', 'Debutant Shaheen showed courage but Test cricket is a beast of another magnitude is what he found out today.']\n",
      "['Bilal', 'Asif', 'looked', 'toothless', 'and', 'even', 'Yasir', 'Shah', 'barring', 'the', 'minor', 'scares', 'looked', 'pretty', 'much', 'playable', 'throughout', 'the', 'day', '.', 'Debutant', 'Shaheen', 'showed', 'courage', 'but', 'Test', 'cricket', 'is', 'a', 'beast', 'of', 'another', 'magnitude', 'is', 'what', 'he', 'found', 'out', 'today', '.']\n"
     ]
    },
    {
     "ename": "AttributeError",
     "evalue": "'str' object has no attribute 'sentences'",
     "output_type": "error",
     "traceback": [
      "\u001b[0;31m---------------------------------------------------------------------------\u001b[0m",
      "\u001b[0;31mAttributeError\u001b[0m                            Traceback (most recent call last)",
      "\u001b[0;32m<ipython-input-26-33f52751376a>\u001b[0m in \u001b[0;36m<module>\u001b[0;34m()\u001b[0m\n\u001b[1;32m      7\u001b[0m \u001b[0;34m\u001b[0m\u001b[0m\n\u001b[1;32m      8\u001b[0m \u001b[0;32mfor\u001b[0m \u001b[0mtoken\u001b[0m \u001b[0;32min\u001b[0m \u001b[0msentences\u001b[0m\u001b[0;34m:\u001b[0m\u001b[0;34m\u001b[0m\u001b[0m\n\u001b[0;32m----> 9\u001b[0;31m     \u001b[0mterm\u001b[0m \u001b[0;34m=\u001b[0m \u001b[0mtoken\u001b[0m\u001b[0;34m.\u001b[0m\u001b[0msentences\u001b[0m\u001b[0;34m\u001b[0m\u001b[0m\n\u001b[0m\u001b[1;32m     10\u001b[0m     \u001b[0mprint\u001b[0m \u001b[0;34m(\u001b[0m\u001b[0mterm\u001b[0m\u001b[0;34m)\u001b[0m\u001b[0;34m\u001b[0m\u001b[0m\n\u001b[1;32m     11\u001b[0m \u001b[0;31m# named_entities = []\u001b[0m\u001b[0;34m\u001b[0m\u001b[0;34m\u001b[0m\u001b[0m\n",
      "\u001b[0;31mAttributeError\u001b[0m: 'str' object has no attribute 'sentences'"
     ]
    }
   ],
   "source": [
    "from nltk import word_tokenize,sent_tokenize\n",
    "corpus = \"Bilal Asif looked toothless and even Yasir Shah barring the minor scares looked pretty much playable throughout the day. Debutant Shaheen showed courage but Test cricket is a beast of another magnitude is what he found out today.\"\n",
    "tokens = word_tokenize(corpus)\n",
    "sentences = sent_tokenize(corpus)\n",
    "print (sentences)\n",
    "print (tokens)\n",
    "\n",
    "for token in sentences:\n",
    "    term = token.sentences\n",
    "    print (term)\n",
    "# named_entities = []\n",
    "# for sentence in sentences:\n",
    "    \n",
    "#     temp_entity_name = ''\n",
    "#     temp_named_entity = None\n",
    "#     sentence = nlp(sentence)\n",
    "#     for word in sentence:\n",
    "#         term = word.text \n",
    "#         tag = word.ent_type_\n",
    "#         if tag:\n",
    "#             temp_entity_name = ' '.join([temp_entity_name, term]).strip()\n",
    "#             temp_named_entity = (temp_entity_name, tag)\n",
    "#         else:\n",
    "#             if temp_named_entity:\n",
    "#                 named_entities.append(temp_named_entity)\n",
    "#                 temp_entity_name = ''\n",
    "#                 temp_named_entity = None\n",
    "\n"
   ]
  },
  {
   "cell_type": "code",
   "execution_count": null,
   "metadata": {},
   "outputs": [],
   "source": []
  }
 ],
 "metadata": {
  "kernelspec": {
   "display_name": "Python 3",
   "language": "python",
   "name": "python3"
  },
  "language_info": {
   "codemirror_mode": {
    "name": "ipython",
    "version": 3
   },
   "file_extension": ".py",
   "mimetype": "text/x-python",
   "name": "python",
   "nbconvert_exporter": "python",
   "pygments_lexer": "ipython3",
   "version": "3.6.5"
  }
 },
 "nbformat": 4,
 "nbformat_minor": 2
}
